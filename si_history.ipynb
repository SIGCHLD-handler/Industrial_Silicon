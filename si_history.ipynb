{
 "cells": [
  {
   "cell_type": "code",
   "execution_count": 1,
   "id": "f6bb9f7a",
   "metadata": {},
   "outputs": [],
   "source": [
    "import numpy as np\n",
    "import pandas as pd\n",
    "import datetime as dt\n",
    "import statsmodels.api as sm\n",
    "import matplotlib.pyplot as plt\n",
    "import scipy.optimize as optimize\n",
    "from scipy.stats import norm\n",
    "from statsmodels.tsa.stattools import adfuller\n",
    "from statsmodels.tsa.arima.model import ARIMA\n",
    "\n",
    "import warnings\n",
    "warnings.filterwarnings(\"ignore\")"
   ]
  },
  {
   "cell_type": "code",
   "execution_count": 2,
   "id": "0237a7f1",
   "metadata": {},
   "outputs": [],
   "source": [
    "import rqdatac as rq\n",
    "rq.init()"
   ]
  },
  {
   "cell_type": "code",
   "execution_count": 3,
   "id": "3539ff2f",
   "metadata": {},
   "outputs": [
    {
     "data": {
      "text/plain": [
       "PS    0.444935\n",
       "V     0.118748\n",
       "SF    0.156146\n",
       "SA    0.063499\n",
       "LC    0.137322\n",
       "JM   -0.008427\n",
       "MA    0.087255\n",
       "AO   -0.007963\n",
       "SP    0.066873\n",
       "RU   -0.058390\n",
       "Name: weight, dtype: float64"
      ]
     },
     "execution_count": 3,
     "metadata": {},
     "output_type": "execute_result"
    }
   ],
   "source": [
    "index_weight = pd.read_json(\"index_info.json\")[\"weight\"]\n",
    "index_weight"
   ]
  },
  {
   "cell_type": "code",
   "execution_count": 4,
   "id": "fe4dcb93",
   "metadata": {},
   "outputs": [
    {
     "data": {
      "text/html": [
       "<div>\n",
       "<style scoped>\n",
       "    .dataframe tbody tr th:only-of-type {\n",
       "        vertical-align: middle;\n",
       "    }\n",
       "\n",
       "    .dataframe tbody tr th {\n",
       "        vertical-align: top;\n",
       "    }\n",
       "\n",
       "    .dataframe thead th {\n",
       "        text-align: right;\n",
       "    }\n",
       "</style>\n",
       "<table border=\"1\" class=\"dataframe\">\n",
       "  <thead>\n",
       "    <tr style=\"text-align: right;\">\n",
       "      <th></th>\n",
       "      <th>trading_date</th>\n",
       "      <th>dominant_id</th>\n",
       "      <th>open</th>\n",
       "      <th>close</th>\n",
       "      <th>high</th>\n",
       "      <th>low</th>\n",
       "      <th>total_turnover</th>\n",
       "      <th>volume</th>\n",
       "      <th>open_interest</th>\n",
       "    </tr>\n",
       "    <tr>\n",
       "      <th>datetime</th>\n",
       "      <th></th>\n",
       "      <th></th>\n",
       "      <th></th>\n",
       "      <th></th>\n",
       "      <th></th>\n",
       "      <th></th>\n",
       "      <th></th>\n",
       "      <th></th>\n",
       "      <th></th>\n",
       "    </tr>\n",
       "  </thead>\n",
       "  <tbody>\n",
       "    <tr>\n",
       "      <th>2025-07-17 09:01:00</th>\n",
       "      <td>2025-07-17</td>\n",
       "      <td>SI2509</td>\n",
       "      <td>8790.0</td>\n",
       "      <td>8835.0</td>\n",
       "      <td>8900.0</td>\n",
       "      <td>8785.0</td>\n",
       "      <td>0</td>\n",
       "      <td>29940.0</td>\n",
       "      <td>382102.0</td>\n",
       "    </tr>\n",
       "    <tr>\n",
       "      <th>2025-07-17 09:02:00</th>\n",
       "      <td>2025-07-17</td>\n",
       "      <td>SI2509</td>\n",
       "      <td>8835.0</td>\n",
       "      <td>8810.0</td>\n",
       "      <td>8840.0</td>\n",
       "      <td>8805.0</td>\n",
       "      <td>0</td>\n",
       "      <td>13657.0</td>\n",
       "      <td>382567.0</td>\n",
       "    </tr>\n",
       "    <tr>\n",
       "      <th>2025-07-17 09:03:00</th>\n",
       "      <td>2025-07-17</td>\n",
       "      <td>SI2509</td>\n",
       "      <td>8815.0</td>\n",
       "      <td>8780.0</td>\n",
       "      <td>8825.0</td>\n",
       "      <td>8770.0</td>\n",
       "      <td>0</td>\n",
       "      <td>15123.0</td>\n",
       "      <td>384108.0</td>\n",
       "    </tr>\n",
       "    <tr>\n",
       "      <th>2025-07-17 09:04:00</th>\n",
       "      <td>2025-07-17</td>\n",
       "      <td>SI2509</td>\n",
       "      <td>8785.0</td>\n",
       "      <td>8780.0</td>\n",
       "      <td>8785.0</td>\n",
       "      <td>8770.0</td>\n",
       "      <td>0</td>\n",
       "      <td>10343.0</td>\n",
       "      <td>384947.0</td>\n",
       "    </tr>\n",
       "    <tr>\n",
       "      <th>2025-07-17 09:05:00</th>\n",
       "      <td>2025-07-17</td>\n",
       "      <td>SI2509</td>\n",
       "      <td>8785.0</td>\n",
       "      <td>8790.0</td>\n",
       "      <td>8790.0</td>\n",
       "      <td>8775.0</td>\n",
       "      <td>0</td>\n",
       "      <td>6106.0</td>\n",
       "      <td>385199.0</td>\n",
       "    </tr>\n",
       "    <tr>\n",
       "      <th>...</th>\n",
       "      <td>...</td>\n",
       "      <td>...</td>\n",
       "      <td>...</td>\n",
       "      <td>...</td>\n",
       "      <td>...</td>\n",
       "      <td>...</td>\n",
       "      <td>...</td>\n",
       "      <td>...</td>\n",
       "      <td>...</td>\n",
       "    </tr>\n",
       "    <tr>\n",
       "      <th>2025-10-16 14:56:00</th>\n",
       "      <td>2025-10-16</td>\n",
       "      <td>SI2511</td>\n",
       "      <td>8600.0</td>\n",
       "      <td>8600.0</td>\n",
       "      <td>8610.0</td>\n",
       "      <td>8600.0</td>\n",
       "      <td>0</td>\n",
       "      <td>1133.0</td>\n",
       "      <td>133049.0</td>\n",
       "    </tr>\n",
       "    <tr>\n",
       "      <th>2025-10-16 14:57:00</th>\n",
       "      <td>2025-10-16</td>\n",
       "      <td>SI2511</td>\n",
       "      <td>8600.0</td>\n",
       "      <td>8600.0</td>\n",
       "      <td>8605.0</td>\n",
       "      <td>8595.0</td>\n",
       "      <td>0</td>\n",
       "      <td>672.0</td>\n",
       "      <td>132872.0</td>\n",
       "    </tr>\n",
       "    <tr>\n",
       "      <th>2025-10-16 14:58:00</th>\n",
       "      <td>2025-10-16</td>\n",
       "      <td>SI2511</td>\n",
       "      <td>8605.0</td>\n",
       "      <td>8605.0</td>\n",
       "      <td>8610.0</td>\n",
       "      <td>8600.0</td>\n",
       "      <td>0</td>\n",
       "      <td>749.0</td>\n",
       "      <td>132742.0</td>\n",
       "    </tr>\n",
       "    <tr>\n",
       "      <th>2025-10-16 14:59:00</th>\n",
       "      <td>2025-10-16</td>\n",
       "      <td>SI2511</td>\n",
       "      <td>8605.0</td>\n",
       "      <td>8600.0</td>\n",
       "      <td>8605.0</td>\n",
       "      <td>8600.0</td>\n",
       "      <td>0</td>\n",
       "      <td>601.0</td>\n",
       "      <td>132379.0</td>\n",
       "    </tr>\n",
       "    <tr>\n",
       "      <th>2025-10-16 15:00:00</th>\n",
       "      <td>2025-10-16</td>\n",
       "      <td>SI2511</td>\n",
       "      <td>8600.0</td>\n",
       "      <td>8605.0</td>\n",
       "      <td>8610.0</td>\n",
       "      <td>8600.0</td>\n",
       "      <td>0</td>\n",
       "      <td>1302.0</td>\n",
       "      <td>131649.0</td>\n",
       "    </tr>\n",
       "  </tbody>\n",
       "</table>\n",
       "<p>13500 rows × 9 columns</p>\n",
       "</div>"
      ],
      "text/plain": [
       "                    trading_date dominant_id    open   close    high     low  \\\n",
       "datetime                                                                       \n",
       "2025-07-17 09:01:00   2025-07-17      SI2509  8790.0  8835.0  8900.0  8785.0   \n",
       "2025-07-17 09:02:00   2025-07-17      SI2509  8835.0  8810.0  8840.0  8805.0   \n",
       "2025-07-17 09:03:00   2025-07-17      SI2509  8815.0  8780.0  8825.0  8770.0   \n",
       "2025-07-17 09:04:00   2025-07-17      SI2509  8785.0  8780.0  8785.0  8770.0   \n",
       "2025-07-17 09:05:00   2025-07-17      SI2509  8785.0  8790.0  8790.0  8775.0   \n",
       "...                          ...         ...     ...     ...     ...     ...   \n",
       "2025-10-16 14:56:00   2025-10-16      SI2511  8600.0  8600.0  8610.0  8600.0   \n",
       "2025-10-16 14:57:00   2025-10-16      SI2511  8600.0  8600.0  8605.0  8595.0   \n",
       "2025-10-16 14:58:00   2025-10-16      SI2511  8605.0  8605.0  8610.0  8600.0   \n",
       "2025-10-16 14:59:00   2025-10-16      SI2511  8605.0  8600.0  8605.0  8600.0   \n",
       "2025-10-16 15:00:00   2025-10-16      SI2511  8600.0  8605.0  8610.0  8600.0   \n",
       "\n",
       "                     total_turnover   volume  open_interest  \n",
       "datetime                                                     \n",
       "2025-07-17 09:01:00               0  29940.0       382102.0  \n",
       "2025-07-17 09:02:00               0  13657.0       382567.0  \n",
       "2025-07-17 09:03:00               0  15123.0       384108.0  \n",
       "2025-07-17 09:04:00               0  10343.0       384947.0  \n",
       "2025-07-17 09:05:00               0   6106.0       385199.0  \n",
       "...                             ...      ...            ...  \n",
       "2025-10-16 14:56:00               0   1133.0       133049.0  \n",
       "2025-10-16 14:57:00               0    672.0       132872.0  \n",
       "2025-10-16 14:58:00               0    749.0       132742.0  \n",
       "2025-10-16 14:59:00               0    601.0       132379.0  \n",
       "2025-10-16 15:00:00               0   1302.0       131649.0  \n",
       "\n",
       "[13500 rows x 9 columns]"
      ]
     },
     "execution_count": 4,
     "metadata": {},
     "output_type": "execute_result"
    }
   ],
   "source": [
    "si_data = rq.futures.get_dominant_price(\"SI\", frequency=\"1m\").loc[\"SI\"]\n",
    "si_data"
   ]
  },
  {
   "cell_type": "code",
   "execution_count": 5,
   "id": "30277d80",
   "metadata": {},
   "outputs": [],
   "source": [
    "def preprocess(data: tuple):\n",
    "\n",
    "    minute_price = data[\"close\"]\n",
    "    minute_price.loc[data[\"trading_date\"].iloc[0] + pd.Timedelta(hours=9)] = data[\"open\"].iloc[0]\n",
    "    minute_price = minute_price.sort_index()\n",
    "    trading_date = minute_price.index.strftime(\"%Y-%m-%d\")\n",
    "    mask = (minute_price.index >= pd.to_datetime(trading_date + \" 09:00:00\")) & \\\n",
    "           (minute_price.index <= pd.to_datetime(trading_date + \" 15:00:00\"))\n",
    "    minute_price = minute_price[mask]\n",
    "\n",
    "    return minute_price"
   ]
  },
  {
   "cell_type": "code",
   "execution_count": 6,
   "id": "d46b7a64",
   "metadata": {},
   "outputs": [],
   "source": [
    "def preprocess_vwap(data: tuple):\n",
    "\n",
    "    minute_vwap = (data[\"close\"] * data[\"volume\"]).cumsum() / data[\"volume\"].cumsum()\n",
    "    minute_vwap.loc[data[\"trading_date\"].iloc[0] + pd.Timedelta(hours=9)] = data[\"open\"].iloc[0]\n",
    "    minute_vwap = minute_vwap.sort_index()\n",
    "    trading_date = minute_vwap.index.strftime(\"%Y-%m-%d\")\n",
    "    mask = (minute_vwap.index >= pd.to_datetime(trading_date + \" 09:00:00\")) & \\\n",
    "           (minute_vwap.index <= pd.to_datetime(trading_date + \" 15:00:00\"))\n",
    "    minute_vwap = minute_vwap[mask]\n",
    "    minute_vwap = minute_vwap / minute_vwap.iloc[0]\n",
    "\n",
    "    return minute_vwap"
   ]
  },
  {
   "cell_type": "code",
   "execution_count": 7,
   "id": "60989367",
   "metadata": {},
   "outputs": [
    {
     "data": {
      "text/plain": [
       "trading_date  datetime           \n",
       "2025-07-17    2025-07-17 09:00:00    1.000000\n",
       "              2025-07-17 09:01:00    1.005119\n",
       "              2025-07-17 09:02:00    1.002275\n",
       "              2025-07-17 09:03:00    0.998862\n",
       "              2025-07-17 09:04:00    0.998862\n",
       "                                       ...   \n",
       "2025-10-16    2025-10-16 14:56:00    1.005260\n",
       "              2025-10-16 14:57:00    1.005260\n",
       "              2025-10-16 14:58:00    1.005845\n",
       "              2025-10-16 14:59:00    1.005260\n",
       "              2025-10-16 15:00:00    1.005845\n",
       "Name: SI, Length: 13560, dtype: float64"
      ]
     },
     "execution_count": 7,
     "metadata": {},
     "output_type": "execute_result"
    }
   ],
   "source": [
    "si_minute = si_data.groupby(\"trading_date\").apply(preprocess)\n",
    "si_minute.name = \"SI\"\n",
    "si_val = si_minute.groupby(level=0).apply(lambda x: (((x.diff() / x.shift()).fillna(0) + 1).cumprod())).droplevel(0)\n",
    "si_val"
   ]
  },
  {
   "cell_type": "code",
   "execution_count": 8,
   "id": "4b00ce69",
   "metadata": {},
   "outputs": [
    {
     "data": {
      "text/plain": [
       "trading_date  datetime           \n",
       "2025-07-17    2025-07-17 09:00:00    1.000000\n",
       "              2025-07-17 09:01:00    1.005119\n",
       "              2025-07-17 09:02:00    1.004229\n",
       "              2025-07-17 09:03:00    1.002846\n",
       "              2025-07-17 09:04:00    1.002250\n",
       "                                       ...   \n",
       "2025-10-16    2025-10-16 14:56:00    1.002378\n",
       "              2025-10-16 14:57:00    1.002388\n",
       "              2025-10-16 14:58:00    1.002400\n",
       "              2025-10-16 14:59:00    1.002408\n",
       "              2025-10-16 15:00:00    1.002430\n",
       "Length: 13560, dtype: float64"
      ]
     },
     "execution_count": 8,
     "metadata": {},
     "output_type": "execute_result"
    }
   ],
   "source": [
    "si_vwap = si_data.groupby(\"trading_date\").apply(preprocess_vwap)\n",
    "si_vwap"
   ]
  },
  {
   "cell_type": "code",
   "execution_count": 9,
   "id": "fd094ab7",
   "metadata": {},
   "outputs": [
    {
     "data": {
      "text/html": [
       "<div>\n",
       "<style scoped>\n",
       "    .dataframe tbody tr th:only-of-type {\n",
       "        vertical-align: middle;\n",
       "    }\n",
       "\n",
       "    .dataframe tbody tr th {\n",
       "        vertical-align: top;\n",
       "    }\n",
       "\n",
       "    .dataframe thead th {\n",
       "        text-align: right;\n",
       "    }\n",
       "</style>\n",
       "<table border=\"1\" class=\"dataframe\">\n",
       "  <thead>\n",
       "    <tr style=\"text-align: right;\">\n",
       "      <th></th>\n",
       "      <th></th>\n",
       "      <th>PS</th>\n",
       "      <th>V</th>\n",
       "      <th>SF</th>\n",
       "      <th>SA</th>\n",
       "      <th>LC</th>\n",
       "      <th>JM</th>\n",
       "      <th>MA</th>\n",
       "      <th>AO</th>\n",
       "      <th>SP</th>\n",
       "      <th>RU</th>\n",
       "    </tr>\n",
       "  </thead>\n",
       "  <tbody>\n",
       "    <tr>\n",
       "      <th rowspan=\"5\" valign=\"top\">2025-07-17</th>\n",
       "      <th>2025-07-17 09:00:00</th>\n",
       "      <td>46420.0</td>\n",
       "      <td>5078.0</td>\n",
       "      <td>5586.0</td>\n",
       "      <td>1304.0</td>\n",
       "      <td>67180.0</td>\n",
       "      <td>1010.5</td>\n",
       "      <td>2457.0</td>\n",
       "      <td>3154.0</td>\n",
       "      <td>5566.0</td>\n",
       "      <td>15390.0</td>\n",
       "    </tr>\n",
       "    <tr>\n",
       "      <th>2025-07-17 09:01:00</th>\n",
       "      <td>46265.0</td>\n",
       "      <td>5098.0</td>\n",
       "      <td>5604.0</td>\n",
       "      <td>1312.0</td>\n",
       "      <td>67160.0</td>\n",
       "      <td>1018.5</td>\n",
       "      <td>2462.0</td>\n",
       "      <td>3137.0</td>\n",
       "      <td>5570.0</td>\n",
       "      <td>15450.0</td>\n",
       "    </tr>\n",
       "    <tr>\n",
       "      <th>2025-07-17 09:02:00</th>\n",
       "      <td>46135.0</td>\n",
       "      <td>5098.0</td>\n",
       "      <td>5608.0</td>\n",
       "      <td>1313.0</td>\n",
       "      <td>66960.0</td>\n",
       "      <td>1019.0</td>\n",
       "      <td>2462.0</td>\n",
       "      <td>3133.0</td>\n",
       "      <td>5568.0</td>\n",
       "      <td>15450.0</td>\n",
       "    </tr>\n",
       "    <tr>\n",
       "      <th>2025-07-17 09:03:00</th>\n",
       "      <td>46065.0</td>\n",
       "      <td>5094.0</td>\n",
       "      <td>5600.0</td>\n",
       "      <td>1312.0</td>\n",
       "      <td>66960.0</td>\n",
       "      <td>1018.5</td>\n",
       "      <td>2461.0</td>\n",
       "      <td>3134.0</td>\n",
       "      <td>5568.0</td>\n",
       "      <td>15460.0</td>\n",
       "    </tr>\n",
       "    <tr>\n",
       "      <th>2025-07-17 09:04:00</th>\n",
       "      <td>46180.0</td>\n",
       "      <td>5090.0</td>\n",
       "      <td>5586.0</td>\n",
       "      <td>1311.0</td>\n",
       "      <td>66860.0</td>\n",
       "      <td>1016.5</td>\n",
       "      <td>2460.0</td>\n",
       "      <td>3132.0</td>\n",
       "      <td>5570.0</td>\n",
       "      <td>15450.0</td>\n",
       "    </tr>\n",
       "    <tr>\n",
       "      <th>...</th>\n",
       "      <th>...</th>\n",
       "      <td>...</td>\n",
       "      <td>...</td>\n",
       "      <td>...</td>\n",
       "      <td>...</td>\n",
       "      <td>...</td>\n",
       "      <td>...</td>\n",
       "      <td>...</td>\n",
       "      <td>...</td>\n",
       "      <td>...</td>\n",
       "      <td>...</td>\n",
       "    </tr>\n",
       "    <tr>\n",
       "      <th rowspan=\"4\" valign=\"top\">2025-10-16</th>\n",
       "      <th>2025-10-16 14:57:00</th>\n",
       "      <td>55185.0</td>\n",
       "      <td>4690.0</td>\n",
       "      <td>5450.0</td>\n",
       "      <td>1232.0</td>\n",
       "      <td>74560.0</td>\n",
       "      <td>1174.5</td>\n",
       "      <td>2318.0</td>\n",
       "      <td>2786.0</td>\n",
       "      <td>5146.0</td>\n",
       "      <td>14895.0</td>\n",
       "    </tr>\n",
       "    <tr>\n",
       "      <th>2025-10-16 14:58:00</th>\n",
       "      <td>55170.0</td>\n",
       "      <td>4691.0</td>\n",
       "      <td>5450.0</td>\n",
       "      <td>1233.0</td>\n",
       "      <td>74640.0</td>\n",
       "      <td>1182.5</td>\n",
       "      <td>2319.0</td>\n",
       "      <td>2789.0</td>\n",
       "      <td>5148.0</td>\n",
       "      <td>14890.0</td>\n",
       "    </tr>\n",
       "    <tr>\n",
       "      <th>2025-10-16 14:59:00</th>\n",
       "      <td>54925.0</td>\n",
       "      <td>4692.0</td>\n",
       "      <td>5450.0</td>\n",
       "      <td>1235.0</td>\n",
       "      <td>74840.0</td>\n",
       "      <td>1184.5</td>\n",
       "      <td>2318.0</td>\n",
       "      <td>2790.0</td>\n",
       "      <td>5150.0</td>\n",
       "      <td>14895.0</td>\n",
       "    </tr>\n",
       "    <tr>\n",
       "      <th>2025-10-16 15:00:00</th>\n",
       "      <td>55050.0</td>\n",
       "      <td>4694.0</td>\n",
       "      <td>5456.0</td>\n",
       "      <td>1235.0</td>\n",
       "      <td>75080.0</td>\n",
       "      <td>1185.5</td>\n",
       "      <td>2319.0</td>\n",
       "      <td>2790.0</td>\n",
       "      <td>5152.0</td>\n",
       "      <td>14900.0</td>\n",
       "    </tr>\n",
       "    <tr>\n",
       "      <th>2025-10-17</th>\n",
       "      <th>2025-10-17 09:00:00</th>\n",
       "      <td>NaN</td>\n",
       "      <td>4698.0</td>\n",
       "      <td>NaN</td>\n",
       "      <td>1240.0</td>\n",
       "      <td>NaN</td>\n",
       "      <td>1190.5</td>\n",
       "      <td>2314.0</td>\n",
       "      <td>2792.0</td>\n",
       "      <td>5152.0</td>\n",
       "      <td>14880.0</td>\n",
       "    </tr>\n",
       "  </tbody>\n",
       "</table>\n",
       "<p>13561 rows × 10 columns</p>\n",
       "</div>"
      ],
      "text/plain": [
       "                                     PS       V      SF      SA       LC  \\\n",
       "2025-07-17 2025-07-17 09:00:00  46420.0  5078.0  5586.0  1304.0  67180.0   \n",
       "           2025-07-17 09:01:00  46265.0  5098.0  5604.0  1312.0  67160.0   \n",
       "           2025-07-17 09:02:00  46135.0  5098.0  5608.0  1313.0  66960.0   \n",
       "           2025-07-17 09:03:00  46065.0  5094.0  5600.0  1312.0  66960.0   \n",
       "           2025-07-17 09:04:00  46180.0  5090.0  5586.0  1311.0  66860.0   \n",
       "...                                 ...     ...     ...     ...      ...   \n",
       "2025-10-16 2025-10-16 14:57:00  55185.0  4690.0  5450.0  1232.0  74560.0   \n",
       "           2025-10-16 14:58:00  55170.0  4691.0  5450.0  1233.0  74640.0   \n",
       "           2025-10-16 14:59:00  54925.0  4692.0  5450.0  1235.0  74840.0   \n",
       "           2025-10-16 15:00:00  55050.0  4694.0  5456.0  1235.0  75080.0   \n",
       "2025-10-17 2025-10-17 09:00:00      NaN  4698.0     NaN  1240.0      NaN   \n",
       "\n",
       "                                    JM      MA      AO      SP       RU  \n",
       "2025-07-17 2025-07-17 09:00:00  1010.5  2457.0  3154.0  5566.0  15390.0  \n",
       "           2025-07-17 09:01:00  1018.5  2462.0  3137.0  5570.0  15450.0  \n",
       "           2025-07-17 09:02:00  1019.0  2462.0  3133.0  5568.0  15450.0  \n",
       "           2025-07-17 09:03:00  1018.5  2461.0  3134.0  5568.0  15460.0  \n",
       "           2025-07-17 09:04:00  1016.5  2460.0  3132.0  5570.0  15450.0  \n",
       "...                                ...     ...     ...     ...      ...  \n",
       "2025-10-16 2025-10-16 14:57:00  1174.5  2318.0  2786.0  5146.0  14895.0  \n",
       "           2025-10-16 14:58:00  1182.5  2319.0  2789.0  5148.0  14890.0  \n",
       "           2025-10-16 14:59:00  1184.5  2318.0  2790.0  5150.0  14895.0  \n",
       "           2025-10-16 15:00:00  1185.5  2319.0  2790.0  5152.0  14900.0  \n",
       "2025-10-17 2025-10-17 09:00:00  1190.5  2314.0  2792.0  5152.0  14880.0  \n",
       "\n",
       "[13561 rows x 10 columns]"
      ]
     },
     "execution_count": 9,
     "metadata": {},
     "output_type": "execute_result"
    }
   ],
   "source": [
    "all_minute = pd.DataFrame()\n",
    "for underlying in index_weight.index:\n",
    "    data = rq.futures.get_dominant_price(underlying, frequency=\"1m\").loc[underlying]\n",
    "    data.to_csv(\"data/%s.csv\" % underlying.lower())\n",
    "    minute = data.groupby(\"trading_date\").apply(preprocess)\n",
    "    minute.name = underlying\n",
    "    all_minute = pd.concat([all_minute, minute], axis=1)\n",
    "\n",
    "all_minute"
   ]
  },
  {
   "cell_type": "code",
   "execution_count": 10,
   "id": "eb8e5aa3",
   "metadata": {},
   "outputs": [
    {
     "data": {
      "text/plain": [
       "trading_date  datetime           \n",
       "2025-07-17    2025-07-17 09:00:00    1.000000\n",
       "              2025-07-17 09:01:00    0.999808\n",
       "              2025-07-17 09:02:00    0.998291\n",
       "              2025-07-17 09:03:00    0.997182\n",
       "              2025-07-17 09:04:00    0.997602\n",
       "                                       ...   \n",
       "2025-10-16    2025-10-16 14:57:00    1.023436\n",
       "              2025-10-16 14:58:00    1.023559\n",
       "              2025-10-16 14:59:00    1.021995\n",
       "              2025-10-16 15:00:00    1.023745\n",
       "2025-10-17    2025-10-17 09:00:00    1.000000\n",
       "Length: 13561, dtype: float64"
      ]
     },
     "execution_count": 10,
     "metadata": {},
     "output_type": "execute_result"
    }
   ],
   "source": [
    "index_val = all_minute.groupby(level=0).apply(lambda x: (((x.diff() / x.shift()).apply(lambda y: y.dot(index_weight), axis=1)).fillna(0) + 1).cumprod()).droplevel(0)\n",
    "index_val = index_val.rename_axis([\"trading_date\", \"datetime\"])\n",
    "index_val"
   ]
  },
  {
   "cell_type": "code",
   "execution_count": 11,
   "id": "a0181b6f",
   "metadata": {},
   "outputs": [
    {
     "name": "stdout",
     "output_type": "stream",
     "text": [
      "拟合参数: μ=0.000469, σ=0.010692, 幅度=11.230873\n"
     ]
    }
   ],
   "source": [
    "val_diff = index_val.reindex(si_val.index) - si_val\n",
    "counts, bin_edges = np.histogram(val_diff, bins=100)\n",
    "bin_centers = (bin_edges[:-1] + bin_edges[1:]) / 2\n",
    "\n",
    "def normal_func(x, mu, sigma, amplitude):\n",
    "    return amplitude * norm.pdf(x, mu, sigma)\n",
    "\n",
    "# 使用曲线拟合\n",
    "params, params_covariance = optimize.curve_fit(\n",
    "    normal_func, bin_centers, counts, p0=[val_diff.mean(), val_diff.std(), counts.max()]\n",
    ")\n",
    "\n",
    "print(f\"拟合参数: μ={params[0]:.6f}, σ={params[1]:.6f}, 幅度={params[2]:.6f}\")"
   ]
  },
  {
   "cell_type": "code",
   "execution_count": 12,
   "id": "b7a719f7",
   "metadata": {},
   "outputs": [
    {
     "name": "stdout",
     "output_type": "stream",
     "text": [
      "标准正态分布的单边分位数:\n",
      "10%水平: μ + 1.2816σ\n",
      "20%水平: μ + 0.8416σ\n",
      "30%水平: μ + 0.5244σ\n"
     ]
    }
   ],
   "source": [
    "confidence_levels = [0.10, 0.20, 0.30]  # 10%, 20%, 30%水平\n",
    "\n",
    "print(\"标准正态分布的单边分位数:\")\n",
    "for level in confidence_levels:\n",
    "    z_score = norm.ppf(1 - level)  # ppf是分位数函数\n",
    "    print(f\"{int(level*100)}%水平: μ + {z_score:.4f}σ\")"
   ]
  },
  {
   "cell_type": "code",
   "execution_count": 13,
   "id": "58457578",
   "metadata": {},
   "outputs": [
    {
     "data": {
      "text/html": [
       "<div>\n",
       "<style scoped>\n",
       "    .dataframe tbody tr th:only-of-type {\n",
       "        vertical-align: middle;\n",
       "    }\n",
       "\n",
       "    .dataframe tbody tr th {\n",
       "        vertical-align: top;\n",
       "    }\n",
       "\n",
       "    .dataframe thead th {\n",
       "        text-align: right;\n",
       "    }\n",
       "</style>\n",
       "<table border=\"1\" class=\"dataframe\">\n",
       "  <thead>\n",
       "    <tr style=\"text-align: right;\">\n",
       "      <th></th>\n",
       "      <th></th>\n",
       "      <th>spread</th>\n",
       "      <th>si</th>\n",
       "      <th>index</th>\n",
       "    </tr>\n",
       "    <tr>\n",
       "      <th>trading_date</th>\n",
       "      <th>datetime</th>\n",
       "      <th></th>\n",
       "      <th></th>\n",
       "      <th></th>\n",
       "    </tr>\n",
       "  </thead>\n",
       "  <tbody>\n",
       "    <tr>\n",
       "      <th rowspan=\"5\" valign=\"top\">2025-07-17</th>\n",
       "      <th>2025-07-17 09:00:00</th>\n",
       "      <td>0.000000</td>\n",
       "      <td>1.000000</td>\n",
       "      <td>1.000000</td>\n",
       "    </tr>\n",
       "    <tr>\n",
       "      <th>2025-07-17 09:01:00</th>\n",
       "      <td>-0.005311</td>\n",
       "      <td>1.005119</td>\n",
       "      <td>0.999808</td>\n",
       "    </tr>\n",
       "    <tr>\n",
       "      <th>2025-07-17 09:02:00</th>\n",
       "      <td>-0.003984</td>\n",
       "      <td>1.002275</td>\n",
       "      <td>0.998291</td>\n",
       "    </tr>\n",
       "    <tr>\n",
       "      <th>2025-07-17 09:03:00</th>\n",
       "      <td>-0.001680</td>\n",
       "      <td>0.998862</td>\n",
       "      <td>0.997182</td>\n",
       "    </tr>\n",
       "    <tr>\n",
       "      <th>2025-07-17 09:04:00</th>\n",
       "      <td>-0.001260</td>\n",
       "      <td>0.998862</td>\n",
       "      <td>0.997602</td>\n",
       "    </tr>\n",
       "    <tr>\n",
       "      <th>...</th>\n",
       "      <th>...</th>\n",
       "      <td>...</td>\n",
       "      <td>...</td>\n",
       "      <td>...</td>\n",
       "    </tr>\n",
       "    <tr>\n",
       "      <th rowspan=\"4\" valign=\"top\">2025-10-16</th>\n",
       "      <th>2025-10-16 14:57:00</th>\n",
       "      <td>0.018176</td>\n",
       "      <td>1.005260</td>\n",
       "      <td>1.023436</td>\n",
       "    </tr>\n",
       "    <tr>\n",
       "      <th>2025-10-16 14:58:00</th>\n",
       "      <td>0.017715</td>\n",
       "      <td>1.005845</td>\n",
       "      <td>1.023559</td>\n",
       "    </tr>\n",
       "    <tr>\n",
       "      <th>2025-10-16 14:59:00</th>\n",
       "      <td>0.016735</td>\n",
       "      <td>1.005260</td>\n",
       "      <td>1.021995</td>\n",
       "    </tr>\n",
       "    <tr>\n",
       "      <th>2025-10-16 15:00:00</th>\n",
       "      <td>0.017901</td>\n",
       "      <td>1.005845</td>\n",
       "      <td>1.023745</td>\n",
       "    </tr>\n",
       "    <tr>\n",
       "      <th>2025-10-17</th>\n",
       "      <th>2025-10-17 09:00:00</th>\n",
       "      <td>NaN</td>\n",
       "      <td>NaN</td>\n",
       "      <td>1.000000</td>\n",
       "    </tr>\n",
       "  </tbody>\n",
       "</table>\n",
       "<p>13561 rows × 3 columns</p>\n",
       "</div>"
      ],
      "text/plain": [
       "                                    spread        si     index\n",
       "trading_date datetime                                         \n",
       "2025-07-17   2025-07-17 09:00:00  0.000000  1.000000  1.000000\n",
       "             2025-07-17 09:01:00 -0.005311  1.005119  0.999808\n",
       "             2025-07-17 09:02:00 -0.003984  1.002275  0.998291\n",
       "             2025-07-17 09:03:00 -0.001680  0.998862  0.997182\n",
       "             2025-07-17 09:04:00 -0.001260  0.998862  0.997602\n",
       "...                                    ...       ...       ...\n",
       "2025-10-16   2025-10-16 14:57:00  0.018176  1.005260  1.023436\n",
       "             2025-10-16 14:58:00  0.017715  1.005845  1.023559\n",
       "             2025-10-16 14:59:00  0.016735  1.005260  1.021995\n",
       "             2025-10-16 15:00:00  0.017901  1.005845  1.023745\n",
       "2025-10-17   2025-10-17 09:00:00       NaN       NaN  1.000000\n",
       "\n",
       "[13561 rows x 3 columns]"
      ]
     },
     "execution_count": 13,
     "metadata": {},
     "output_type": "execute_result"
    }
   ],
   "source": [
    "si_val.name = \"si\"\n",
    "index_val.name = \"index\"\n",
    "val_diff.name = \"spread\"\n",
    "\n",
    "data = pd.concat([val_diff, si_val, index_val], axis=1)\n",
    "data"
   ]
  },
  {
   "cell_type": "code",
   "execution_count": 14,
   "id": "66d2a590",
   "metadata": {},
   "outputs": [
    {
     "data": {
      "text/html": [
       "<div>\n",
       "<style scoped>\n",
       "    .dataframe tbody tr th:only-of-type {\n",
       "        vertical-align: middle;\n",
       "    }\n",
       "\n",
       "    .dataframe tbody tr th {\n",
       "        vertical-align: top;\n",
       "    }\n",
       "\n",
       "    .dataframe thead th {\n",
       "        text-align: right;\n",
       "    }\n",
       "</style>\n",
       "<table border=\"1\" class=\"dataframe\">\n",
       "  <thead>\n",
       "    <tr style=\"text-align: right;\">\n",
       "      <th></th>\n",
       "      <th></th>\n",
       "      <th>spread</th>\n",
       "      <th>si</th>\n",
       "      <th>index</th>\n",
       "      <th>si_lag_1</th>\n",
       "      <th>index_lag_1</th>\n",
       "      <th>si_lag_2</th>\n",
       "      <th>index_lag_2</th>\n",
       "    </tr>\n",
       "    <tr>\n",
       "      <th>trading_date</th>\n",
       "      <th>datetime</th>\n",
       "      <th></th>\n",
       "      <th></th>\n",
       "      <th></th>\n",
       "      <th></th>\n",
       "      <th></th>\n",
       "      <th></th>\n",
       "      <th></th>\n",
       "    </tr>\n",
       "  </thead>\n",
       "  <tbody>\n",
       "    <tr>\n",
       "      <th rowspan=\"5\" valign=\"top\">2025-07-17</th>\n",
       "      <th>2025-07-17 09:02:00</th>\n",
       "      <td>-0.003984</td>\n",
       "      <td>1.002275</td>\n",
       "      <td>0.998291</td>\n",
       "      <td>1.005119</td>\n",
       "      <td>0.999808</td>\n",
       "      <td>1.000000</td>\n",
       "      <td>1.000000</td>\n",
       "    </tr>\n",
       "    <tr>\n",
       "      <th>2025-07-17 09:03:00</th>\n",
       "      <td>-0.001680</td>\n",
       "      <td>0.998862</td>\n",
       "      <td>0.997182</td>\n",
       "      <td>1.002275</td>\n",
       "      <td>0.998291</td>\n",
       "      <td>1.005119</td>\n",
       "      <td>0.999808</td>\n",
       "    </tr>\n",
       "    <tr>\n",
       "      <th>2025-07-17 09:04:00</th>\n",
       "      <td>-0.001260</td>\n",
       "      <td>0.998862</td>\n",
       "      <td>0.997602</td>\n",
       "      <td>0.998862</td>\n",
       "      <td>0.997182</td>\n",
       "      <td>1.002275</td>\n",
       "      <td>0.998291</td>\n",
       "    </tr>\n",
       "    <tr>\n",
       "      <th>2025-07-17 09:05:00</th>\n",
       "      <td>-0.002100</td>\n",
       "      <td>1.000000</td>\n",
       "      <td>0.997900</td>\n",
       "      <td>0.998862</td>\n",
       "      <td>0.997602</td>\n",
       "      <td>0.998862</td>\n",
       "      <td>0.997182</td>\n",
       "    </tr>\n",
       "    <tr>\n",
       "      <th>2025-07-17 09:06:00</th>\n",
       "      <td>-0.000596</td>\n",
       "      <td>0.999431</td>\n",
       "      <td>0.998835</td>\n",
       "      <td>1.000000</td>\n",
       "      <td>0.997900</td>\n",
       "      <td>0.998862</td>\n",
       "      <td>0.997602</td>\n",
       "    </tr>\n",
       "    <tr>\n",
       "      <th>...</th>\n",
       "      <th>...</th>\n",
       "      <td>...</td>\n",
       "      <td>...</td>\n",
       "      <td>...</td>\n",
       "      <td>...</td>\n",
       "      <td>...</td>\n",
       "      <td>...</td>\n",
       "      <td>...</td>\n",
       "    </tr>\n",
       "    <tr>\n",
       "      <th rowspan=\"5\" valign=\"top\">2025-10-16</th>\n",
       "      <th>2025-10-16 14:56:00</th>\n",
       "      <td>0.017853</td>\n",
       "      <td>1.005260</td>\n",
       "      <td>1.023113</td>\n",
       "      <td>1.006429</td>\n",
       "      <td>1.021990</td>\n",
       "      <td>1.005845</td>\n",
       "      <td>1.021124</td>\n",
       "    </tr>\n",
       "    <tr>\n",
       "      <th>2025-10-16 14:57:00</th>\n",
       "      <td>0.018176</td>\n",
       "      <td>1.005260</td>\n",
       "      <td>1.023436</td>\n",
       "      <td>1.005260</td>\n",
       "      <td>1.023113</td>\n",
       "      <td>1.006429</td>\n",
       "      <td>1.021990</td>\n",
       "    </tr>\n",
       "    <tr>\n",
       "      <th>2025-10-16 14:58:00</th>\n",
       "      <td>0.017715</td>\n",
       "      <td>1.005845</td>\n",
       "      <td>1.023559</td>\n",
       "      <td>1.005260</td>\n",
       "      <td>1.023436</td>\n",
       "      <td>1.005260</td>\n",
       "      <td>1.023113</td>\n",
       "    </tr>\n",
       "    <tr>\n",
       "      <th>2025-10-16 14:59:00</th>\n",
       "      <td>0.016735</td>\n",
       "      <td>1.005260</td>\n",
       "      <td>1.021995</td>\n",
       "      <td>1.005845</td>\n",
       "      <td>1.023559</td>\n",
       "      <td>1.005260</td>\n",
       "      <td>1.023436</td>\n",
       "    </tr>\n",
       "    <tr>\n",
       "      <th>2025-10-16 15:00:00</th>\n",
       "      <td>0.017901</td>\n",
       "      <td>1.005845</td>\n",
       "      <td>1.023745</td>\n",
       "      <td>1.005260</td>\n",
       "      <td>1.021995</td>\n",
       "      <td>1.005845</td>\n",
       "      <td>1.023559</td>\n",
       "    </tr>\n",
       "  </tbody>\n",
       "</table>\n",
       "<p>13440 rows × 7 columns</p>\n",
       "</div>"
      ],
      "text/plain": [
       "                                    spread        si     index  si_lag_1  \\\n",
       "trading_date datetime                                                      \n",
       "2025-07-17   2025-07-17 09:02:00 -0.003984  1.002275  0.998291  1.005119   \n",
       "             2025-07-17 09:03:00 -0.001680  0.998862  0.997182  1.002275   \n",
       "             2025-07-17 09:04:00 -0.001260  0.998862  0.997602  0.998862   \n",
       "             2025-07-17 09:05:00 -0.002100  1.000000  0.997900  0.998862   \n",
       "             2025-07-17 09:06:00 -0.000596  0.999431  0.998835  1.000000   \n",
       "...                                    ...       ...       ...       ...   \n",
       "2025-10-16   2025-10-16 14:56:00  0.017853  1.005260  1.023113  1.006429   \n",
       "             2025-10-16 14:57:00  0.018176  1.005260  1.023436  1.005260   \n",
       "             2025-10-16 14:58:00  0.017715  1.005845  1.023559  1.005260   \n",
       "             2025-10-16 14:59:00  0.016735  1.005260  1.021995  1.005845   \n",
       "             2025-10-16 15:00:00  0.017901  1.005845  1.023745  1.005260   \n",
       "\n",
       "                                  index_lag_1  si_lag_2  index_lag_2  \n",
       "trading_date datetime                                                 \n",
       "2025-07-17   2025-07-17 09:02:00     0.999808  1.000000     1.000000  \n",
       "             2025-07-17 09:03:00     0.998291  1.005119     0.999808  \n",
       "             2025-07-17 09:04:00     0.997182  1.002275     0.998291  \n",
       "             2025-07-17 09:05:00     0.997602  0.998862     0.997182  \n",
       "             2025-07-17 09:06:00     0.997900  0.998862     0.997602  \n",
       "...                                       ...       ...          ...  \n",
       "2025-10-16   2025-10-16 14:56:00     1.021990  1.005845     1.021124  \n",
       "             2025-10-16 14:57:00     1.023113  1.006429     1.021990  \n",
       "             2025-10-16 14:58:00     1.023436  1.005260     1.023113  \n",
       "             2025-10-16 14:59:00     1.023559  1.005260     1.023436  \n",
       "             2025-10-16 15:00:00     1.021995  1.005845     1.023559  \n",
       "\n",
       "[13440 rows x 7 columns]"
      ]
     },
     "execution_count": 14,
     "metadata": {},
     "output_type": "execute_result"
    }
   ],
   "source": [
    "def add_lag(data: pd.DataFrame):\n",
    "    for lag in range(1, 3):\n",
    "        data[\"si_lag_%d\" % lag] = data[\"si\"].shift(lag)\n",
    "        data[\"index_lag_%d\" % lag] = data[\"index\"].shift(lag)\n",
    "    return data\n",
    "\n",
    "lag_data = data.groupby(level=0).apply(add_lag).droplevel(0).dropna(how=\"any\")\n",
    "lag_data"
   ]
  },
  {
   "cell_type": "code",
   "execution_count": 15,
   "id": "02d94c0a",
   "metadata": {},
   "outputs": [
    {
     "name": "stdout",
     "output_type": "stream",
     "text": [
      "                            OLS Regression Results                            \n",
      "==============================================================================\n",
      "Dep. Variable:                     si   R-squared:                       0.990\n",
      "Model:                            OLS   Adj. R-squared:                  0.990\n",
      "Method:                 Least Squares   F-statistic:                 3.263e+05\n",
      "Date:                Fri, 17 Oct 2025   Prob (F-statistic):               0.00\n",
      "Time:                        08:57:05   Log-Likelihood:                 67770.\n",
      "No. Observations:               13440   AIC:                        -1.355e+05\n",
      "Df Residuals:                   13435   BIC:                        -1.355e+05\n",
      "Df Model:                           4                                         \n",
      "Covariance Type:            nonrobust                                         \n",
      "===============================================================================\n",
      "                  coef    std err          t      P>|t|      [0.025      0.975]\n",
      "-------------------------------------------------------------------------------\n",
      "const           0.0018      0.001      1.537      0.124      -0.000       0.004\n",
      "si_lag_1        0.9031      0.012     76.202      0.000       0.880       0.926\n",
      "index_lag_1     0.0624      0.016      3.974      0.000       0.032       0.093\n",
      "si_lag_2        0.0969      0.012      8.147      0.000       0.074       0.120\n",
      "index_lag_2    -0.0643      0.016     -4.076      0.000      -0.095      -0.033\n",
      "==============================================================================\n",
      "Omnibus:                     1807.750   Durbin-Watson:                   1.985\n",
      "Prob(Omnibus):                  0.000   Jarque-Bera (JB):            24234.361\n",
      "Skew:                          -0.033   Prob(JB):                         0.00\n",
      "Kurtosis:                       9.578   Cond. No.                     4.30e+03\n",
      "==============================================================================\n",
      "\n",
      "Notes:\n",
      "[1] Standard Errors assume that the covariance matrix of the errors is correctly specified.\n",
      "[2] The condition number is large, 4.3e+03. This might indicate that there are\n",
      "strong multicollinearity or other numerical problems.\n"
     ]
    }
   ],
   "source": [
    "X = lag_data.drop([\"spread\", \"si\", \"index\"], axis=1)\n",
    "X = sm.add_constant(X)\n",
    "y = lag_data[\"si\"]\n",
    "model = sm.OLS(y, X).fit()\n",
    "print(model.summary())"
   ]
  },
  {
   "cell_type": "code",
   "execution_count": 16,
   "id": "e9a8d506",
   "metadata": {},
   "outputs": [
    {
     "data": {
      "text/plain": [
       "11"
      ]
     },
     "execution_count": 16,
     "metadata": {},
     "output_type": "execute_result"
    }
   ],
   "source": [
    "(val_diff.groupby(level=0).apply(lambda x: adfuller(x)[1]) < 0.05).sum()"
   ]
  },
  {
   "cell_type": "code",
   "execution_count": 17,
   "id": "4861ce65",
   "metadata": {},
   "outputs": [
    {
     "data": {
      "text/plain": [
       "8"
      ]
     },
     "execution_count": 17,
     "metadata": {},
     "output_type": "execute_result"
    }
   ],
   "source": [
    "((si_val - si_vwap).fillna(method=\"bfill\").groupby(level=0).apply(lambda x: adfuller(x)[1]) < 0.05).sum()"
   ]
  },
  {
   "cell_type": "code",
   "execution_count": 18,
   "id": "d48677e2",
   "metadata": {},
   "outputs": [],
   "source": [
    "def daily_series(panel: pd.DataFrame, diff: bool=False):\n",
    "    all_daily = pd.DataFrame()\n",
    "    for data in panel.groupby(level=0):\n",
    "        daily = data[1].droplevel(0)\n",
    "        daily.name = daily.index[0].strftime(\"%Y%m%d\")\n",
    "        daily.index = daily.index.map(lambda x: x.strftime(\"%H%M%S\"))\n",
    "        all_daily = pd.concat([all_daily, daily], axis=1)\n",
    "    if diff:\n",
    "        all_daily = all_daily.diff().dropna()\n",
    "    return all_daily.reset_index(drop=True)"
   ]
  },
  {
   "cell_type": "code",
   "execution_count": 19,
   "id": "18fd97b5",
   "metadata": {},
   "outputs": [],
   "source": [
    "def long_data_export(all_daily: pd.DataFrame):\n",
    "    all_daily_long = all_daily.stack().reset_index()\n",
    "    all_daily_long.columns = [\"time\", \"date\", \"value\"]\n",
    "    all_daily_long[\"date\"] = pd.to_datetime(all_daily_long[\"date\"])\n",
    "    all_daily_long = all_daily_long.sort_values(by=[\"date\", \"time\"]).reset_index(drop=True)\n",
    "    all_daily_long.to_csv(\"si_daily_minute.csv\")"
   ]
  },
  {
   "cell_type": "code",
   "execution_count": 20,
   "id": "dcb4f27d",
   "metadata": {},
   "outputs": [],
   "source": [
    "long_data_export(daily_series(val_diff))"
   ]
  },
  {
   "cell_type": "code",
   "execution_count": 21,
   "id": "407d031d",
   "metadata": {},
   "outputs": [
    {
     "data": {
      "image/png": "[encoded data removed]",
      "text/plain": [
       "<Figure size 640x480 with 1 Axes>"
      ]
     },
     "metadata": {},
     "output_type": "display_data"
    }
   ],
   "source": [
    "panel = daily_series(val_diff)\n",
    "\n",
    "def spectral_analysis(series: pd.Series):\n",
    "    fft_result = np.fft.fft(series.diff().dropna())\n",
    "    n = len(panel.index)\n",
    "    freq = np.fft.fftfreq(n)\n",
    "    psd = np.abs(fft_result) ** 2 / n\n",
    "    return pd.Series(psd[: n//2], index=freq[: n//2])\n",
    "\n",
    "average_spectral_power = panel.apply(spectral_analysis).mean(axis=1)\n",
    "plt.plot(average_spectral_power)\n",
    "plt.show()"
   ]
  },
  {
   "cell_type": "code",
   "execution_count": 22,
   "id": "0d00323a",
   "metadata": {},
   "outputs": [
    {
     "data": {
      "image/png": "[encoded data removed]",
      "text/plain": [
       "<Figure size 640x480 with 1 Axes>"
      ]
     },
     "metadata": {},
     "output_type": "display_data"
    }
   ],
   "source": [
    "plt.plot(average_spectral_power.ewm(span=20, ignore_na=True).mean())\n",
    "plt.show()"
   ]
  },
  {
   "cell_type": "code",
   "execution_count": 23,
   "id": "402e2c59",
   "metadata": {},
   "outputs": [
    {
     "name": "stdout",
     "output_type": "stream",
     "text": [
      "                               SARIMAX Results                                \n",
      "==============================================================================\n",
      "Dep. Variable:                 spread   No. Observations:                13560\n",
      "Model:                 ARIMA(1, 0, 1)   Log Likelihood               68063.337\n",
      "Date:                Fri, 17 Oct 2025   AIC                        -136118.675\n",
      "Time:                        08:57:10   BIC                        -136088.615\n",
      "Sample:                             0   HQIC                       -136108.652\n",
      "                              - 13560                                         \n",
      "Covariance Type:                  opg                                         \n",
      "==============================================================================\n",
      "                 coef    std err          z      P>|z|      [0.025      0.975]\n",
      "------------------------------------------------------------------------------\n",
      "const         -0.0002      0.002     -0.092      0.927      -0.003       0.003\n",
      "ar.L1          0.9924      0.001    751.720      0.000       0.990       0.995\n",
      "ma.L1         -0.0649      0.003    -24.690      0.000      -0.070      -0.060\n",
      "sigma2      2.554e-06   7.78e-09    328.448      0.000    2.54e-06    2.57e-06\n",
      "===================================================================================\n",
      "Ljung-Box (L1) (Q):                   0.00   Jarque-Bera (JB):          16813029.55\n",
      "Prob(Q):                              0.98   Prob(JB):                         0.00\n",
      "Heteroskedasticity (H):               0.78   Skew:                             0.74\n",
      "Prob(H) (two-sided):                  0.00   Kurtosis:                       175.50\n",
      "===================================================================================\n",
      "\n",
      "Warnings:\n",
      "[1] Covariance matrix calculated using the outer product of gradients (complex-step).\n"
     ]
    }
   ],
   "source": [
    "model = ARIMA(val_diff, order=(1, 0, 1))\n",
    "print(model.fit().summary())"
   ]
  },
  {
   "cell_type": "code",
   "execution_count": 24,
   "id": "80ee6a9a",
   "metadata": {},
   "outputs": [
    {
     "data": {
      "text/plain": [
       "0.005135756564363917"
      ]
     },
     "execution_count": 24,
     "metadata": {},
     "output_type": "execute_result"
    }
   ],
   "source": [
    "val_diff.groupby(level=0).std().mean()"
   ]
  },
  {
   "cell_type": "code",
   "execution_count": 25,
   "id": "670b548b",
   "metadata": {},
   "outputs": [
    {
     "data": {
      "text/plain": [
       "0.005370904473042509"
      ]
     },
     "execution_count": 25,
     "metadata": {},
     "output_type": "execute_result"
    }
   ],
   "source": [
    "(si_val - si_vwap).groupby(level=0).std().mean()"
   ]
  },
  {
   "cell_type": "code",
   "execution_count": 26,
   "id": "3b2b5f49",
   "metadata": {},
   "outputs": [
    {
     "data": {
      "text/plain": [
       "count    57.000000\n",
       "mean      0.837165\n",
       "std       1.401383\n",
       "min      -4.750000\n",
       "25%       0.400000\n",
       "50%       0.918033\n",
       "75%       1.368421\n",
       "max       3.857143\n",
       "dtype: float64"
      ]
     },
     "execution_count": 26,
     "metadata": {},
     "output_type": "execute_result"
    }
   ],
   "source": [
    "intra_chg = si_data.groupby(\"trading_date\").apply(lambda x: x[\"close\"].iloc[-1] - x[\"open\"].iloc[3]).iloc[1:]\n",
    "daily_chg = si_data.groupby(\"trading_date\")[\"close\"].last().diff().dropna()\n",
    "intra_prop = intra_chg / daily_chg\n",
    "intra_prop = intra_prop[~np.isinf(intra_prop)].iloc[:-1]\n",
    "intra_prop.describe()"
   ]
  },
  {
   "cell_type": "code",
   "execution_count": 27,
   "id": "0b77e733",
   "metadata": {},
   "outputs": [
    {
     "name": "stdout",
     "output_type": "stream",
     "text": [
      "                            OLS Regression Results                            \n",
      "==============================================================================\n",
      "Dep. Variable:                      y   R-squared:                       0.706\n",
      "Model:                            OLS   Adj. R-squared:                  0.701\n",
      "Method:                 Least Squares   F-statistic:                     367.3\n",
      "Date:                Fri, 17 Oct 2025   Prob (F-statistic):           1.61e-26\n",
      "Time:                        08:57:10   Log-Likelihood:                -355.59\n",
      "No. Observations:                  59   AIC:                             715.2\n",
      "Df Residuals:                      57   BIC:                             719.3\n",
      "Df Model:                           1                                         \n",
      "Covariance Type:                  HAC                                         \n",
      "==============================================================================\n",
      "                 coef    std err          z      P>|z|      [0.025      0.975]\n",
      "------------------------------------------------------------------------------\n",
      "const         24.2895      8.207      2.960      0.003       8.204      40.375\n",
      "close          0.6838      0.036     19.165      0.000       0.614       0.754\n",
      "==============================================================================\n",
      "Omnibus:                        0.204   Durbin-Watson:                   2.185\n",
      "Prob(Omnibus):                  0.903   Jarque-Bera (JB):                0.216\n",
      "Skew:                          -0.127   Prob(JB):                        0.898\n",
      "Kurtosis:                       2.848   Cond. No.                         227.\n",
      "==============================================================================\n",
      "\n",
      "Notes:\n",
      "[1] Standard Errors are heteroscedasticity and autocorrelation robust (HAC) using 10 lags and without small sample correction\n"
     ]
    }
   ],
   "source": [
    "y = intra_chg\n",
    "X = daily_chg\n",
    "X = sm.add_constant(X)\n",
    "\n",
    "print(sm.OLS(y, X).fit(cov_type=\"HAC\", cov_kwds={\"maxlags\": 10}).summary())"
   ]
  },
  {
   "cell_type": "code",
   "execution_count": 28,
   "id": "10ed9c93",
   "metadata": {},
   "outputs": [
    {
     "data": {
      "text/plain": [
       "<Axes: xlabel='trading_date'>"
      ]
     },
     "execution_count": 28,
     "metadata": {},
     "output_type": "execute_result"
    },
    {
     "data": {
      "image/png": "[encoded data removed]",
      "text/plain": [
       "<Figure size 640x480 with 1 Axes>"
      ]
     },
     "metadata": {},
     "output_type": "display_data"
    }
   ],
   "source": [
    "vol2oi = si_data.groupby(\"trading_date\").apply(lambda x: abs(x[\"open_interest\"].iloc[-1] - x[\"open_interest\"].iloc[0]) / x[\"volume\"].sum())\n",
    "vol2oi.plot()"
   ]
  },
  {
   "cell_type": "code",
   "execution_count": 29,
   "id": "4dc0303e",
   "metadata": {},
   "outputs": [
    {
     "name": "stdout",
     "output_type": "stream",
     "text": [
      "                            OLS Regression Results                            \n",
      "==============================================================================\n",
      "Dep. Variable:                  close   R-squared:                       0.323\n",
      "Model:                            OLS   Adj. R-squared:                  0.323\n",
      "Method:                 Least Squares   F-statistic:                     668.0\n",
      "Date:                Fri, 17 Oct 2025   Prob (F-statistic):          8.96e-144\n",
      "Time:                        08:57:10   Log-Likelihood:                -43083.\n",
      "No. Observations:               13380   AIC:                         8.617e+04\n",
      "Df Residuals:                   13378   BIC:                         8.619e+04\n",
      "Df Model:                           1                                         \n",
      "Covariance Type:                  HAC                                         \n",
      "==============================================================================\n",
      "                 coef    std err          z      P>|z|      [0.025      0.975]\n",
      "------------------------------------------------------------------------------\n",
      "const          4.7044      0.126     37.376      0.000       4.458       4.951\n",
      "volume         0.0017   6.72e-05     25.846      0.000       0.002       0.002\n",
      "==============================================================================\n",
      "Omnibus:                     5771.497   Durbin-Watson:                   1.053\n",
      "Prob(Omnibus):                  0.000   Jarque-Bera (JB):            71139.698\n",
      "Skew:                           1.735   Prob(JB):                         0.00\n",
      "Kurtosis:                      13.750   Cond. No.                     4.42e+03\n",
      "==============================================================================\n",
      "\n",
      "Notes:\n",
      "[1] Standard Errors are heteroscedasticity and autocorrelation robust (HAC) using 1 lags and without small sample correction\n",
      "[2] The condition number is large, 4.42e+03. This might indicate that there are\n",
      "strong multicollinearity or other numerical problems.\n"
     ]
    }
   ],
   "source": [
    "windows = 3\n",
    "rol_std = si_data.groupby(\"trading_date\")[\"close\"].apply(lambda x: x.rolling(windows).std().dropna())\n",
    "rol_vol = si_data.groupby(\"trading_date\")[\"volume\"].rolling(windows).mean().dropna()\n",
    "\n",
    "y = rol_std\n",
    "X = rol_vol\n",
    "X = sm.add_constant(X)\n",
    "\n",
    "print(sm.OLS(y, X).fit(cov_type=\"HAC\", cov_kwds={\"maxlags\": 1}).summary())"
   ]
  },
  {
   "cell_type": "code",
   "execution_count": 30,
   "id": "728ee08a",
   "metadata": {},
   "outputs": [
    {
     "data": {
      "image/png": "[encoded data removed]",
      "text/plain": [
       "<Figure size 640x480 with 1 Axes>"
      ]
     },
     "metadata": {},
     "output_type": "display_data"
    }
   ],
   "source": [
    "spread = si_minute.groupby(level=0).transform(\"first\") * val_diff\n",
    "spread = spread.groupby(level=0).apply(lambda x: ((x + x.shift()) / 2).dropna()).droplevel([0, 1])\n",
    "vw_spread = spread * si_data[\"volume\"]\n",
    "vw_spread = vw_spread.groupby(vw_spread.index.date).apply(lambda x: x.cumsum()) / si_data[\"volume\"].groupby(si_data.index.date).apply(lambda x: x.cumsum())\n",
    "\n",
    "def discnt_sum(series: pd.Series):\n",
    "    n = len(series)\n",
    "    discnt = pd.Series([np.exp(0.5*i) for i in range(n)], index=series.index)\n",
    "    discnt = discnt / discnt.sum()\n",
    "    return (series * discnt).sum()\n",
    "\n",
    "cum_diff = vw_spread.groupby(level=0).last().rolling(5).apply(discnt_sum).dropna()\n",
    "plt.plot(cum_diff)\n",
    "plt.show()"
   ]
  },
  {
   "cell_type": "code",
   "execution_count": 31,
   "id": "7e6528fb",
   "metadata": {},
   "outputs": [
    {
     "data": {
      "text/plain": [
       "trading_date  datetime           \n",
       "2025-07-17    2025-07-17 09:05:00    2.516885\n",
       "              2025-07-17 09:06:00    1.509491\n",
       "              2025-07-17 09:07:00    1.140819\n",
       "              2025-07-17 09:08:00    0.732699\n",
       "              2025-07-17 09:09:00    0.749148\n",
       "                                       ...   \n",
       "2025-10-16    2025-10-16 14:56:00    0.617507\n",
       "              2025-10-16 14:57:00    0.506545\n",
       "              2025-10-16 14:58:00   -0.134468\n",
       "              2025-10-16 14:59:00    0.064617\n",
       "              2025-10-16 15:00:00    0.146113\n",
       "Name: si, Length: 13319, dtype: float64"
      ]
     },
     "execution_count": 31,
     "metadata": {},
     "output_type": "execute_result"
    }
   ],
   "source": [
    "def regression(si_series: pd.Series):\n",
    "    y = si_series\n",
    "    X = (index_val.diff() / index_val.shift()).reindex(si_series.index)\n",
    "    X = sm.add_constant(X)\n",
    "    return sm.OLS(y, X).fit().params[\"index\"]\n",
    "\n",
    "beta = (si_val.diff() / si_val.shift()).groupby(level=0).rolling(5).apply(regression).droplevel(0).dropna()\n",
    "beta"
   ]
  },
  {
   "cell_type": "code",
   "execution_count": 32,
   "id": "87397967",
   "metadata": {},
   "outputs": [
    {
     "data": {
      "image/png": "[encoded data removed]",
      "text/plain": [
       "<Figure size 640x480 with 1 Axes>"
      ]
     },
     "metadata": {},
     "output_type": "display_data"
    }
   ],
   "source": [
    "test_beta = beta.xs(pd.to_datetime(\"20251014\"), level=0).asfreq(\"1min\")\n",
    "\n",
    "plt.plot(test_beta)\n",
    "plt.axhline(1, color=\"red\")\n",
    "plt.show()"
   ]
  },
  {
   "cell_type": "code",
   "execution_count": 33,
   "id": "2ee23e4a",
   "metadata": {},
   "outputs": [
    {
     "name": "stdout",
     "output_type": "stream",
     "text": [
      "                            OLS Regression Results                            \n",
      "==============================================================================\n",
      "Dep. Variable:                     si   R-squared:                       0.015\n",
      "Model:                            OLS   Adj. R-squared:                  0.015\n",
      "Method:                 Least Squares   F-statistic:                     201.5\n",
      "Date:                Fri, 17 Oct 2025   Prob (F-statistic):           2.11e-45\n",
      "Time:                        08:57:51   Log-Likelihood:                -16789.\n",
      "No. Observations:               13260   AIC:                         3.358e+04\n",
      "Df Residuals:                   13258   BIC:                         3.360e+04\n",
      "Df Model:                           1                                         \n",
      "Covariance Type:            nonrobust                                         \n",
      "==============================================================================\n",
      "                 coef    std err          t      P>|t|      [0.025      0.975]\n",
      "------------------------------------------------------------------------------\n",
      "const          0.9532      0.010     91.406      0.000       0.933       0.974\n",
      "volume      4.781e-05   3.37e-06     14.195      0.000    4.12e-05    5.44e-05\n",
      "==============================================================================\n",
      "Omnibus:                     3283.282   Durbin-Watson:                   0.704\n",
      "Prob(Omnibus):                  0.000   Jarque-Bera (JB):            49477.063\n",
      "Skew:                           0.778   Prob(JB):                         0.00\n",
      "Kurtosis:                      12.334   Cond. No.                     4.33e+03\n",
      "==============================================================================\n",
      "\n",
      "Notes:\n",
      "[1] Standard Errors assume that the covariance matrix of the errors is correctly specified.\n",
      "[2] The condition number is large, 4.33e+03. This might indicate that there are\n",
      "strong multicollinearity or other numerical problems.\n"
     ]
    }
   ],
   "source": [
    "volume = si_data[\"volume\"]\n",
    "rol_vol = volume.groupby(volume.index.date).rolling(5).mean().dropna()\n",
    "\n",
    "y = beta.reindex(rol_vol.index)\n",
    "X = rol_vol\n",
    "X = sm.add_constant(X)\n",
    "print(sm.OLS(y, X).fit().summary())"
   ]
  },
  {
   "cell_type": "code",
   "execution_count": 34,
   "id": "d981807f",
   "metadata": {},
   "outputs": [],
   "source": [
    "all_y = si_val.diff() / si_val.shift()\n",
    "all_X = index_val.diff() / index_val.shift()\n",
    "\n",
    "pos_y = all_y[all_y >= 0]\n",
    "neg_y = all_y[all_y < 0]\n",
    "pos_X = all_X[pos_y.index]\n",
    "neg_X = all_X[neg_y.index]\n",
    "\n",
    "pos_beta = sm.OLS(pos_y, sm.add_constant(pos_X)).fit().params.iloc[0]\n",
    "neg_beta = sm.OLS(neg_y, sm.add_constant(neg_X)).fit().params.iloc[0]"
   ]
  },
  {
   "cell_type": "code",
   "execution_count": 67,
   "id": "9b92fec7",
   "metadata": {},
   "outputs": [
    {
     "data": {
      "image/png": "[encoded data removed]",
      "text/plain": [
       "<Figure size 640x480 with 1 Axes>"
      ]
     },
     "metadata": {},
     "output_type": "display_data"
    }
   ],
   "source": [
    "from scipy.signal import savgol_filter\n",
    "\n",
    "spread = val_diff.xs(pd.to_datetime(\"20251016\"), level=0).iloc[:76].diff().dropna()\n",
    "smoothed_spread = pd.Series(savgol_filter(spread, window_length=10, polyorder=2), index=spread.index)\n",
    "\n",
    "plt.plot(spread)\n",
    "plt.plot(smoothed_spread)\n",
    "plt.show()"
   ]
  },
  {
   "cell_type": "code",
   "execution_count": 68,
   "id": "e28e6e92",
   "metadata": {},
   "outputs": [
    {
     "name": "stdout",
     "output_type": "stream",
     "text": [
      "                                 OLS Regression Results                                \n",
      "=======================================================================================\n",
      "Dep. Variable:                 spread   R-squared (uncentered):                   0.446\n",
      "Model:                            OLS   Adj. R-squared (uncentered):              0.430\n",
      "Method:                 Least Squares   F-statistic:                              28.52\n",
      "Date:                Fri, 17 Oct 2025   Prob (F-statistic):                    8.09e-10\n",
      "Time:                        10:21:03   Log-Likelihood:                          364.30\n",
      "No. Observations:                  73   AIC:                                     -724.6\n",
      "Df Residuals:                      71   BIC:                                     -720.0\n",
      "Df Model:                           2                                                  \n",
      "Covariance Type:            nonrobust                                                  \n",
      "==============================================================================\n",
      "                 coef    std err          t      P>|t|      [0.025      0.975]\n",
      "------------------------------------------------------------------------------\n",
      "spread        -2.4980      0.468     -5.339      0.000      -3.431      -1.565\n",
      "spread         2.5035      0.331      7.552      0.000       1.843       3.164\n",
      "==============================================================================\n",
      "Omnibus:                        2.756   Durbin-Watson:                   1.720\n",
      "Prob(Omnibus):                  0.252   Jarque-Bera (JB):                1.975\n",
      "Skew:                          -0.330   Prob(JB):                        0.373\n",
      "Kurtosis:                       3.462   Cond. No.                         2.57\n",
      "==============================================================================\n",
      "\n",
      "Notes:\n",
      "[1] R² is computed without centering (uncentered) since the model does not contain a constant.\n",
      "[2] Standard Errors assume that the covariance matrix of the errors is correctly specified.\n"
     ]
    }
   ],
   "source": [
    "def estimate_rlc(series: pd.Series):\n",
    "    d1 = series.diff(2) / 2\n",
    "    d2 = series.diff(1) - series.diff(1).shift(1)\n",
    "    y = d2.dropna()\n",
    "    X = pd.concat([d1, series], axis=1).reindex(y.index)\n",
    "    model = sm.OLS(y, X).fit()\n",
    "    print(model.summary())\n",
    "    return model.params\n",
    "\n",
    "L = 1\n",
    "thetas = estimate_rlc(spread)\n",
    "R = -thetas.iloc[0]\n",
    "C = -1 / thetas.iloc[1]"
   ]
  },
  {
   "cell_type": "code",
   "execution_count": null,
   "id": "945c1132",
   "metadata": {},
   "outputs": [],
   "source": []
  }
 ],
 "metadata": {
  "kernelspec": {
   "display_name": "base",
   "language": "python",
   "name": "python3"
  },
  "language_info": {
   "codemirror_mode": {
    "name": "ipython",
    "version": 3
   },
   "file_extension": ".py",
   "mimetype": "text/x-python",
   "name": "python",
   "nbconvert_exporter": "python",
   "pygments_lexer": "ipython3",
   "version": "3.9.20"
  }
 },
 "nbformat": 4,
 "nbformat_minor": 5
}
