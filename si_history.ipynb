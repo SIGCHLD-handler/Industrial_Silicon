{
 "cells": [
  {
   "cell_type": "code",
   "execution_count": 1,
   "id": "f6bb9f7a",
   "metadata": {},
   "outputs": [],
   "source": [
    "import numpy as np\n",
    "import pandas as pd\n",
    "import datetime as dt\n",
    "import statsmodels.api as sm\n",
    "import matplotlib.pyplot as plt\n",
    "import scipy.optimize as optimize\n",
    "from scipy.stats import norm\n",
    "from statsmodels.tsa.stattools import adfuller\n",
    "from statsmodels.tsa.arima.model import ARIMA\n",
    "\n",
    "import warnings\n",
    "warnings.filterwarnings(\"ignore\")"
   ]
  },
  {
   "cell_type": "code",
   "execution_count": 2,
   "id": "0237a7f1",
   "metadata": {},
   "outputs": [],
   "source": [
    "import rqdatac as rq\n",
    "rq.init()"
   ]
  },
  {
   "cell_type": "code",
   "execution_count": 3,
   "id": "3539ff2f",
   "metadata": {},
   "outputs": [
    {
     "data": {
      "text/plain": [
       "PS    0.444935\n",
       "V     0.118748\n",
       "SF    0.156146\n",
       "SA    0.063499\n",
       "LC    0.137322\n",
       "JM   -0.008427\n",
       "MA    0.087255\n",
       "AO   -0.007963\n",
       "SP    0.066873\n",
       "RU   -0.058390\n",
       "Name: weight, dtype: float64"
      ]
     },
     "execution_count": 3,
     "metadata": {},
     "output_type": "execute_result"
    }
   ],
   "source": [
    "index_weight = pd.read_json(\"index_info.json\")[\"weight\"]\n",
    "index_weight"
   ]
  },
  {
   "cell_type": "code",
   "execution_count": 4,
   "id": "fe4dcb93",
   "metadata": {},
   "outputs": [
    {
     "data": {
      "text/html": [
       "<div>\n",
       "<style scoped>\n",
       "    .dataframe tbody tr th:only-of-type {\n",
       "        vertical-align: middle;\n",
       "    }\n",
       "\n",
       "    .dataframe tbody tr th {\n",
       "        vertical-align: top;\n",
       "    }\n",
       "\n",
       "    .dataframe thead th {\n",
       "        text-align: right;\n",
       "    }\n",
       "</style>\n",
       "<table border=\"1\" class=\"dataframe\">\n",
       "  <thead>\n",
       "    <tr style=\"text-align: right;\">\n",
       "      <th></th>\n",
       "      <th>trading_date</th>\n",
       "      <th>dominant_id</th>\n",
       "      <th>open</th>\n",
       "      <th>close</th>\n",
       "      <th>high</th>\n",
       "      <th>low</th>\n",
       "      <th>total_turnover</th>\n",
       "      <th>volume</th>\n",
       "      <th>open_interest</th>\n",
       "    </tr>\n",
       "    <tr>\n",
       "      <th>datetime</th>\n",
       "      <th></th>\n",
       "      <th></th>\n",
       "      <th></th>\n",
       "      <th></th>\n",
       "      <th></th>\n",
       "      <th></th>\n",
       "      <th></th>\n",
       "      <th></th>\n",
       "      <th></th>\n",
       "    </tr>\n",
       "  </thead>\n",
       "  <tbody>\n",
       "    <tr>\n",
       "      <th>2025-07-16 09:01:00</th>\n",
       "      <td>2025-07-16</td>\n",
       "      <td>SI2509</td>\n",
       "      <td>8780.0</td>\n",
       "      <td>8780.0</td>\n",
       "      <td>8805.0</td>\n",
       "      <td>8750.0</td>\n",
       "      <td>0</td>\n",
       "      <td>25389.0</td>\n",
       "      <td>396912.0</td>\n",
       "    </tr>\n",
       "    <tr>\n",
       "      <th>2025-07-16 09:02:00</th>\n",
       "      <td>2025-07-16</td>\n",
       "      <td>SI2509</td>\n",
       "      <td>8780.0</td>\n",
       "      <td>8790.0</td>\n",
       "      <td>8810.0</td>\n",
       "      <td>8780.0</td>\n",
       "      <td>0</td>\n",
       "      <td>11900.0</td>\n",
       "      <td>398632.0</td>\n",
       "    </tr>\n",
       "    <tr>\n",
       "      <th>2025-07-16 09:03:00</th>\n",
       "      <td>2025-07-16</td>\n",
       "      <td>SI2509</td>\n",
       "      <td>8795.0</td>\n",
       "      <td>8775.0</td>\n",
       "      <td>8795.0</td>\n",
       "      <td>8755.0</td>\n",
       "      <td>0</td>\n",
       "      <td>10213.0</td>\n",
       "      <td>398039.0</td>\n",
       "    </tr>\n",
       "    <tr>\n",
       "      <th>2025-07-16 09:04:00</th>\n",
       "      <td>2025-07-16</td>\n",
       "      <td>SI2509</td>\n",
       "      <td>8775.0</td>\n",
       "      <td>8765.0</td>\n",
       "      <td>8775.0</td>\n",
       "      <td>8755.0</td>\n",
       "      <td>0</td>\n",
       "      <td>8431.0</td>\n",
       "      <td>398165.0</td>\n",
       "    </tr>\n",
       "    <tr>\n",
       "      <th>2025-07-16 09:05:00</th>\n",
       "      <td>2025-07-16</td>\n",
       "      <td>SI2509</td>\n",
       "      <td>8765.0</td>\n",
       "      <td>8770.0</td>\n",
       "      <td>8770.0</td>\n",
       "      <td>8740.0</td>\n",
       "      <td>0</td>\n",
       "      <td>9360.0</td>\n",
       "      <td>398378.0</td>\n",
       "    </tr>\n",
       "    <tr>\n",
       "      <th>...</th>\n",
       "      <td>...</td>\n",
       "      <td>...</td>\n",
       "      <td>...</td>\n",
       "      <td>...</td>\n",
       "      <td>...</td>\n",
       "      <td>...</td>\n",
       "      <td>...</td>\n",
       "      <td>...</td>\n",
       "      <td>...</td>\n",
       "    </tr>\n",
       "    <tr>\n",
       "      <th>2025-10-15 14:56:00</th>\n",
       "      <td>2025-10-15</td>\n",
       "      <td>SI2511</td>\n",
       "      <td>8565.0</td>\n",
       "      <td>8565.0</td>\n",
       "      <td>8570.0</td>\n",
       "      <td>8560.0</td>\n",
       "      <td>0</td>\n",
       "      <td>432.0</td>\n",
       "      <td>145108.0</td>\n",
       "    </tr>\n",
       "    <tr>\n",
       "      <th>2025-10-15 14:57:00</th>\n",
       "      <td>2025-10-15</td>\n",
       "      <td>SI2511</td>\n",
       "      <td>8565.0</td>\n",
       "      <td>8565.0</td>\n",
       "      <td>8565.0</td>\n",
       "      <td>8555.0</td>\n",
       "      <td>0</td>\n",
       "      <td>1166.0</td>\n",
       "      <td>145037.0</td>\n",
       "    </tr>\n",
       "    <tr>\n",
       "      <th>2025-10-15 14:58:00</th>\n",
       "      <td>2025-10-15</td>\n",
       "      <td>SI2511</td>\n",
       "      <td>8565.0</td>\n",
       "      <td>8580.0</td>\n",
       "      <td>8580.0</td>\n",
       "      <td>8560.0</td>\n",
       "      <td>0</td>\n",
       "      <td>1211.0</td>\n",
       "      <td>144758.0</td>\n",
       "    </tr>\n",
       "    <tr>\n",
       "      <th>2025-10-15 14:59:00</th>\n",
       "      <td>2025-10-15</td>\n",
       "      <td>SI2511</td>\n",
       "      <td>8580.0</td>\n",
       "      <td>8570.0</td>\n",
       "      <td>8580.0</td>\n",
       "      <td>8570.0</td>\n",
       "      <td>0</td>\n",
       "      <td>948.0</td>\n",
       "      <td>144643.0</td>\n",
       "    </tr>\n",
       "    <tr>\n",
       "      <th>2025-10-15 15:00:00</th>\n",
       "      <td>2025-10-15</td>\n",
       "      <td>SI2511</td>\n",
       "      <td>8570.0</td>\n",
       "      <td>8570.0</td>\n",
       "      <td>8575.0</td>\n",
       "      <td>8565.0</td>\n",
       "      <td>0</td>\n",
       "      <td>19475.0</td>\n",
       "      <td>142381.0</td>\n",
       "    </tr>\n",
       "  </tbody>\n",
       "</table>\n",
       "<p>13500 rows × 9 columns</p>\n",
       "</div>"
      ],
      "text/plain": [
       "                    trading_date dominant_id    open   close    high     low  \\\n",
       "datetime                                                                       \n",
       "2025-07-16 09:01:00   2025-07-16      SI2509  8780.0  8780.0  8805.0  8750.0   \n",
       "2025-07-16 09:02:00   2025-07-16      SI2509  8780.0  8790.0  8810.0  8780.0   \n",
       "2025-07-16 09:03:00   2025-07-16      SI2509  8795.0  8775.0  8795.0  8755.0   \n",
       "2025-07-16 09:04:00   2025-07-16      SI2509  8775.0  8765.0  8775.0  8755.0   \n",
       "2025-07-16 09:05:00   2025-07-16      SI2509  8765.0  8770.0  8770.0  8740.0   \n",
       "...                          ...         ...     ...     ...     ...     ...   \n",
       "2025-10-15 14:56:00   2025-10-15      SI2511  8565.0  8565.0  8570.0  8560.0   \n",
       "2025-10-15 14:57:00   2025-10-15      SI2511  8565.0  8565.0  8565.0  8555.0   \n",
       "2025-10-15 14:58:00   2025-10-15      SI2511  8565.0  8580.0  8580.0  8560.0   \n",
       "2025-10-15 14:59:00   2025-10-15      SI2511  8580.0  8570.0  8580.0  8570.0   \n",
       "2025-10-15 15:00:00   2025-10-15      SI2511  8570.0  8570.0  8575.0  8565.0   \n",
       "\n",
       "                     total_turnover   volume  open_interest  \n",
       "datetime                                                     \n",
       "2025-07-16 09:01:00               0  25389.0       396912.0  \n",
       "2025-07-16 09:02:00               0  11900.0       398632.0  \n",
       "2025-07-16 09:03:00               0  10213.0       398039.0  \n",
       "2025-07-16 09:04:00               0   8431.0       398165.0  \n",
       "2025-07-16 09:05:00               0   9360.0       398378.0  \n",
       "...                             ...      ...            ...  \n",
       "2025-10-15 14:56:00               0    432.0       145108.0  \n",
       "2025-10-15 14:57:00               0   1166.0       145037.0  \n",
       "2025-10-15 14:58:00               0   1211.0       144758.0  \n",
       "2025-10-15 14:59:00               0    948.0       144643.0  \n",
       "2025-10-15 15:00:00               0  19475.0       142381.0  \n",
       "\n",
       "[13500 rows x 9 columns]"
      ]
     },
     "execution_count": 4,
     "metadata": {},
     "output_type": "execute_result"
    }
   ],
   "source": [
    "si_data = rq.futures.get_dominant_price(\"SI\", frequency=\"1m\").loc[\"SI\"]\n",
    "si_data"
   ]
  },
  {
   "cell_type": "code",
   "execution_count": 5,
   "id": "30277d80",
   "metadata": {},
   "outputs": [],
   "source": [
    "def preprocess(data: tuple):\n",
    "\n",
    "    minute_price = data[\"close\"]\n",
    "    minute_price.loc[data[\"trading_date\"].iloc[0] + pd.Timedelta(hours=9)] = data[\"open\"].iloc[0]\n",
    "    minute_price = minute_price.sort_index()\n",
    "    trading_date = minute_price.index.strftime(\"%Y-%m-%d\")\n",
    "    mask = (minute_price.index >= pd.to_datetime(trading_date + \" 09:00:00\")) & \\\n",
    "           (minute_price.index <= pd.to_datetime(trading_date + \" 15:00:00\"))\n",
    "    minute_price = minute_price[mask]\n",
    "\n",
    "    return minute_price"
   ]
  },
  {
   "cell_type": "code",
   "execution_count": 6,
   "id": "d46b7a64",
   "metadata": {},
   "outputs": [],
   "source": [
    "def preprocess_vwap(data: tuple):\n",
    "\n",
    "    minute_vwap = (data[\"close\"] * data[\"volume\"]).cumsum() / data[\"volume\"].cumsum()\n",
    "    minute_vwap.loc[data[\"trading_date\"].iloc[0] + pd.Timedelta(hours=9)] = data[\"open\"].iloc[0]\n",
    "    minute_vwap = minute_vwap.sort_index()\n",
    "    trading_date = minute_vwap.index.strftime(\"%Y-%m-%d\")\n",
    "    mask = (minute_vwap.index >= pd.to_datetime(trading_date + \" 09:00:00\")) & \\\n",
    "           (minute_vwap.index <= pd.to_datetime(trading_date + \" 15:00:00\"))\n",
    "    minute_vwap = minute_vwap[mask]\n",
    "    minute_vwap = minute_vwap / minute_vwap.iloc[0]\n",
    "\n",
    "    return minute_vwap"
   ]
  },
  {
   "cell_type": "code",
   "execution_count": 7,
   "id": "60989367",
   "metadata": {},
   "outputs": [
    {
     "data": {
      "text/plain": [
       "trading_date  datetime           \n",
       "2025-07-16    2025-07-16 09:00:00    1.000000\n",
       "              2025-07-16 09:01:00    1.000000\n",
       "              2025-07-16 09:02:00    1.001139\n",
       "              2025-07-16 09:03:00    0.999431\n",
       "              2025-07-16 09:04:00    0.998292\n",
       "                                       ...   \n",
       "2025-10-15    2025-10-15 14:56:00    1.008240\n",
       "              2025-10-15 14:57:00    1.008240\n",
       "              2025-10-15 14:58:00    1.010006\n",
       "              2025-10-15 14:59:00    1.008829\n",
       "              2025-10-15 15:00:00    1.008829\n",
       "Name: SI, Length: 13560, dtype: float64"
      ]
     },
     "execution_count": 7,
     "metadata": {},
     "output_type": "execute_result"
    }
   ],
   "source": [
    "si_minute = si_data.groupby(\"trading_date\").apply(preprocess)\n",
    "si_minute.name = \"SI\"\n",
    "si_val = si_minute.groupby(level=0).apply(lambda x: (((x.diff() / x.shift()).fillna(0) + 1).cumprod())).droplevel(0)\n",
    "si_val"
   ]
  },
  {
   "cell_type": "code",
   "execution_count": 8,
   "id": "4b00ce69",
   "metadata": {},
   "outputs": [
    {
     "data": {
      "text/plain": [
       "trading_date  datetime           \n",
       "2025-07-16    2025-07-16 09:00:00    1.000000\n",
       "              2025-07-16 09:01:00    1.000000\n",
       "              2025-07-16 09:02:00    1.000363\n",
       "              2025-07-16 09:03:00    1.000163\n",
       "              2025-07-16 09:04:00    0.999881\n",
       "                                       ...   \n",
       "2025-10-15    2025-10-15 14:56:00    1.012120\n",
       "              2025-10-15 14:57:00    1.012098\n",
       "              2025-10-15 14:58:00    1.012085\n",
       "              2025-10-15 14:59:00    1.012070\n",
       "              2025-10-15 15:00:00    1.011790\n",
       "Length: 13560, dtype: float64"
      ]
     },
     "execution_count": 8,
     "metadata": {},
     "output_type": "execute_result"
    }
   ],
   "source": [
    "si_vwap = si_data.groupby(\"trading_date\").apply(preprocess_vwap)\n",
    "si_vwap"
   ]
  },
  {
   "cell_type": "code",
   "execution_count": 9,
   "id": "fd094ab7",
   "metadata": {},
   "outputs": [
    {
     "data": {
      "text/html": [
       "<div>\n",
       "<style scoped>\n",
       "    .dataframe tbody tr th:only-of-type {\n",
       "        vertical-align: middle;\n",
       "    }\n",
       "\n",
       "    .dataframe tbody tr th {\n",
       "        vertical-align: top;\n",
       "    }\n",
       "\n",
       "    .dataframe thead th {\n",
       "        text-align: right;\n",
       "    }\n",
       "</style>\n",
       "<table border=\"1\" class=\"dataframe\">\n",
       "  <thead>\n",
       "    <tr style=\"text-align: right;\">\n",
       "      <th></th>\n",
       "      <th></th>\n",
       "      <th>PS</th>\n",
       "      <th>V</th>\n",
       "      <th>SF</th>\n",
       "      <th>SA</th>\n",
       "      <th>LC</th>\n",
       "      <th>JM</th>\n",
       "      <th>MA</th>\n",
       "      <th>AO</th>\n",
       "      <th>SP</th>\n",
       "      <th>RU</th>\n",
       "    </tr>\n",
       "  </thead>\n",
       "  <tbody>\n",
       "    <tr>\n",
       "      <th rowspan=\"5\" valign=\"top\">2025-07-16</th>\n",
       "      <th>2025-07-16 09:00:00</th>\n",
       "      <td>42290.0</td>\n",
       "      <td>5124.0</td>\n",
       "      <td>5636.0</td>\n",
       "      <td>1310.0</td>\n",
       "      <td>67680.0</td>\n",
       "      <td>1027.5</td>\n",
       "      <td>2482.0</td>\n",
       "      <td>3229.0</td>\n",
       "      <td>5582.0</td>\n",
       "      <td>15300.0</td>\n",
       "    </tr>\n",
       "    <tr>\n",
       "      <th>2025-07-16 09:01:00</th>\n",
       "      <td>42210.0</td>\n",
       "      <td>5108.0</td>\n",
       "      <td>5610.0</td>\n",
       "      <td>1308.0</td>\n",
       "      <td>67380.0</td>\n",
       "      <td>1021.5</td>\n",
       "      <td>2472.0</td>\n",
       "      <td>3202.0</td>\n",
       "      <td>5562.0</td>\n",
       "      <td>15325.0</td>\n",
       "    </tr>\n",
       "    <tr>\n",
       "      <th>2025-07-16 09:02:00</th>\n",
       "      <td>42490.0</td>\n",
       "      <td>5110.0</td>\n",
       "      <td>5612.0</td>\n",
       "      <td>1309.0</td>\n",
       "      <td>67340.0</td>\n",
       "      <td>1023.0</td>\n",
       "      <td>2475.0</td>\n",
       "      <td>3209.0</td>\n",
       "      <td>5564.0</td>\n",
       "      <td>15330.0</td>\n",
       "    </tr>\n",
       "    <tr>\n",
       "      <th>2025-07-16 09:03:00</th>\n",
       "      <td>42290.0</td>\n",
       "      <td>5109.0</td>\n",
       "      <td>5616.0</td>\n",
       "      <td>1309.0</td>\n",
       "      <td>67420.0</td>\n",
       "      <td>1021.5</td>\n",
       "      <td>2475.0</td>\n",
       "      <td>3207.0</td>\n",
       "      <td>5564.0</td>\n",
       "      <td>15330.0</td>\n",
       "    </tr>\n",
       "    <tr>\n",
       "      <th>2025-07-16 09:04:00</th>\n",
       "      <td>42245.0</td>\n",
       "      <td>5108.0</td>\n",
       "      <td>5618.0</td>\n",
       "      <td>1310.0</td>\n",
       "      <td>67300.0</td>\n",
       "      <td>1022.5</td>\n",
       "      <td>2475.0</td>\n",
       "      <td>3212.0</td>\n",
       "      <td>5564.0</td>\n",
       "      <td>15340.0</td>\n",
       "    </tr>\n",
       "    <tr>\n",
       "      <th>...</th>\n",
       "      <th>...</th>\n",
       "      <td>...</td>\n",
       "      <td>...</td>\n",
       "      <td>...</td>\n",
       "      <td>...</td>\n",
       "      <td>...</td>\n",
       "      <td>...</td>\n",
       "      <td>...</td>\n",
       "      <td>...</td>\n",
       "      <td>...</td>\n",
       "      <td>...</td>\n",
       "    </tr>\n",
       "    <tr>\n",
       "      <th rowspan=\"4\" valign=\"top\">2025-10-15</th>\n",
       "      <th>2025-10-15 14:57:00</th>\n",
       "      <td>50535.0</td>\n",
       "      <td>4675.0</td>\n",
       "      <td>5352.0</td>\n",
       "      <td>1230.0</td>\n",
       "      <td>72980.0</td>\n",
       "      <td>1149.0</td>\n",
       "      <td>2296.0</td>\n",
       "      <td>2795.0</td>\n",
       "      <td>5170.0</td>\n",
       "      <td>14865.0</td>\n",
       "    </tr>\n",
       "    <tr>\n",
       "      <th>2025-10-15 14:58:00</th>\n",
       "      <td>50740.0</td>\n",
       "      <td>4677.0</td>\n",
       "      <td>5352.0</td>\n",
       "      <td>1231.0</td>\n",
       "      <td>73000.0</td>\n",
       "      <td>1151.0</td>\n",
       "      <td>2299.0</td>\n",
       "      <td>2798.0</td>\n",
       "      <td>5170.0</td>\n",
       "      <td>14875.0</td>\n",
       "    </tr>\n",
       "    <tr>\n",
       "      <th>2025-10-15 14:59:00</th>\n",
       "      <td>50890.0</td>\n",
       "      <td>4676.0</td>\n",
       "      <td>5348.0</td>\n",
       "      <td>1231.0</td>\n",
       "      <td>73000.0</td>\n",
       "      <td>1151.0</td>\n",
       "      <td>2298.0</td>\n",
       "      <td>2797.0</td>\n",
       "      <td>5170.0</td>\n",
       "      <td>14880.0</td>\n",
       "    </tr>\n",
       "    <tr>\n",
       "      <th>2025-10-15 15:00:00</th>\n",
       "      <td>50865.0</td>\n",
       "      <td>4677.0</td>\n",
       "      <td>5352.0</td>\n",
       "      <td>1232.0</td>\n",
       "      <td>72940.0</td>\n",
       "      <td>1151.0</td>\n",
       "      <td>2298.0</td>\n",
       "      <td>2797.0</td>\n",
       "      <td>5170.0</td>\n",
       "      <td>14895.0</td>\n",
       "    </tr>\n",
       "    <tr>\n",
       "      <th>2025-10-16</th>\n",
       "      <th>2025-10-16 09:00:00</th>\n",
       "      <td>NaN</td>\n",
       "      <td>4673.0</td>\n",
       "      <td>NaN</td>\n",
       "      <td>1235.0</td>\n",
       "      <td>NaN</td>\n",
       "      <td>1155.0</td>\n",
       "      <td>2299.0</td>\n",
       "      <td>2799.0</td>\n",
       "      <td>5172.0</td>\n",
       "      <td>14895.0</td>\n",
       "    </tr>\n",
       "  </tbody>\n",
       "</table>\n",
       "<p>13561 rows × 10 columns</p>\n",
       "</div>"
      ],
      "text/plain": [
       "                                     PS       V      SF      SA       LC  \\\n",
       "2025-07-16 2025-07-16 09:00:00  42290.0  5124.0  5636.0  1310.0  67680.0   \n",
       "           2025-07-16 09:01:00  42210.0  5108.0  5610.0  1308.0  67380.0   \n",
       "           2025-07-16 09:02:00  42490.0  5110.0  5612.0  1309.0  67340.0   \n",
       "           2025-07-16 09:03:00  42290.0  5109.0  5616.0  1309.0  67420.0   \n",
       "           2025-07-16 09:04:00  42245.0  5108.0  5618.0  1310.0  67300.0   \n",
       "...                                 ...     ...     ...     ...      ...   \n",
       "2025-10-15 2025-10-15 14:57:00  50535.0  4675.0  5352.0  1230.0  72980.0   \n",
       "           2025-10-15 14:58:00  50740.0  4677.0  5352.0  1231.0  73000.0   \n",
       "           2025-10-15 14:59:00  50890.0  4676.0  5348.0  1231.0  73000.0   \n",
       "           2025-10-15 15:00:00  50865.0  4677.0  5352.0  1232.0  72940.0   \n",
       "2025-10-16 2025-10-16 09:00:00      NaN  4673.0     NaN  1235.0      NaN   \n",
       "\n",
       "                                    JM      MA      AO      SP       RU  \n",
       "2025-07-16 2025-07-16 09:00:00  1027.5  2482.0  3229.0  5582.0  15300.0  \n",
       "           2025-07-16 09:01:00  1021.5  2472.0  3202.0  5562.0  15325.0  \n",
       "           2025-07-16 09:02:00  1023.0  2475.0  3209.0  5564.0  15330.0  \n",
       "           2025-07-16 09:03:00  1021.5  2475.0  3207.0  5564.0  15330.0  \n",
       "           2025-07-16 09:04:00  1022.5  2475.0  3212.0  5564.0  15340.0  \n",
       "...                                ...     ...     ...     ...      ...  \n",
       "2025-10-15 2025-10-15 14:57:00  1149.0  2296.0  2795.0  5170.0  14865.0  \n",
       "           2025-10-15 14:58:00  1151.0  2299.0  2798.0  5170.0  14875.0  \n",
       "           2025-10-15 14:59:00  1151.0  2298.0  2797.0  5170.0  14880.0  \n",
       "           2025-10-15 15:00:00  1151.0  2298.0  2797.0  5170.0  14895.0  \n",
       "2025-10-16 2025-10-16 09:00:00  1155.0  2299.0  2799.0  5172.0  14895.0  \n",
       "\n",
       "[13561 rows x 10 columns]"
      ]
     },
     "execution_count": 9,
     "metadata": {},
     "output_type": "execute_result"
    }
   ],
   "source": [
    "all_minute = pd.DataFrame()\n",
    "for underlying in index_weight.index:\n",
    "    data = rq.futures.get_dominant_price(underlying, frequency=\"1m\").loc[underlying]\n",
    "    data.to_csv(\"data/%s.csv\" % underlying.lower())\n",
    "    minute = data.groupby(\"trading_date\").apply(preprocess)\n",
    "    minute.name = underlying\n",
    "    all_minute = pd.concat([all_minute, minute], axis=1)\n",
    "\n",
    "all_minute"
   ]
  },
  {
   "cell_type": "code",
   "execution_count": 10,
   "id": "eb8e5aa3",
   "metadata": {},
   "outputs": [
    {
     "data": {
      "text/plain": [
       "trading_date  datetime           \n",
       "2025-07-16    2025-07-16 09:00:00    1.000000\n",
       "              2025-07-16 09:01:00    0.996791\n",
       "              2025-07-16 09:02:00    0.999883\n",
       "              2025-07-16 09:03:00    0.998057\n",
       "              2025-07-16 09:04:00    0.997363\n",
       "                                       ...   \n",
       "2025-10-15    2025-10-15 14:57:00    1.005917\n",
       "              2025-10-15 14:58:00    1.007925\n",
       "              2025-10-15 14:59:00    1.009053\n",
       "              2025-10-15 15:00:00    1.008854\n",
       "2025-10-16    2025-10-16 09:00:00    1.000000\n",
       "Length: 13561, dtype: float64"
      ]
     },
     "execution_count": 10,
     "metadata": {},
     "output_type": "execute_result"
    }
   ],
   "source": [
    "index_val = all_minute.groupby(level=0).apply(lambda x: (((x.diff() / x.shift()).apply(lambda y: y.dot(index_weight), axis=1)).fillna(0) + 1).cumprod()).droplevel(0)\n",
    "index_val = index_val.rename_axis([\"trading_date\", \"datetime\"])\n",
    "index_val"
   ]
  },
  {
   "cell_type": "code",
   "execution_count": 11,
   "id": "a0181b6f",
   "metadata": {},
   "outputs": [
    {
     "name": "stdout",
     "output_type": "stream",
     "text": [
      "拟合参数: μ=0.000362, σ=0.010464, 幅度=11.358433\n"
     ]
    }
   ],
   "source": [
    "val_diff = index_val.reindex(si_val.index) - si_val\n",
    "counts, bin_edges = np.histogram(val_diff, bins=100)\n",
    "bin_centers = (bin_edges[:-1] + bin_edges[1:]) / 2\n",
    "\n",
    "def normal_func(x, mu, sigma, amplitude):\n",
    "    return amplitude * norm.pdf(x, mu, sigma)\n",
    "\n",
    "# 使用曲线拟合\n",
    "params, params_covariance = optimize.curve_fit(\n",
    "    normal_func, bin_centers, counts, p0=[val_diff.mean(), val_diff.std(), counts.max()]\n",
    ")\n",
    "\n",
    "print(f\"拟合参数: μ={params[0]:.6f}, σ={params[1]:.6f}, 幅度={params[2]:.6f}\")"
   ]
  },
  {
   "cell_type": "code",
   "execution_count": 12,
   "id": "b7a719f7",
   "metadata": {},
   "outputs": [
    {
     "name": "stdout",
     "output_type": "stream",
     "text": [
      "标准正态分布的单边分位数:\n",
      "10%水平: μ + 1.2816σ\n",
      "20%水平: μ + 0.8416σ\n",
      "30%水平: μ + 0.5244σ\n"
     ]
    }
   ],
   "source": [
    "confidence_levels = [0.10, 0.20, 0.30]  # 10%, 20%, 30%水平\n",
    "\n",
    "print(\"标准正态分布的单边分位数:\")\n",
    "for level in confidence_levels:\n",
    "    z_score = norm.ppf(1 - level)  # ppf是分位数函数\n",
    "    print(f\"{int(level*100)}%水平: μ + {z_score:.4f}σ\")"
   ]
  },
  {
   "cell_type": "code",
   "execution_count": 13,
   "id": "58457578",
   "metadata": {},
   "outputs": [
    {
     "data": {
      "text/html": [
       "<div>\n",
       "<style scoped>\n",
       "    .dataframe tbody tr th:only-of-type {\n",
       "        vertical-align: middle;\n",
       "    }\n",
       "\n",
       "    .dataframe tbody tr th {\n",
       "        vertical-align: top;\n",
       "    }\n",
       "\n",
       "    .dataframe thead th {\n",
       "        text-align: right;\n",
       "    }\n",
       "</style>\n",
       "<table border=\"1\" class=\"dataframe\">\n",
       "  <thead>\n",
       "    <tr style=\"text-align: right;\">\n",
       "      <th></th>\n",
       "      <th></th>\n",
       "      <th>spread</th>\n",
       "      <th>si</th>\n",
       "      <th>index</th>\n",
       "    </tr>\n",
       "    <tr>\n",
       "      <th>trading_date</th>\n",
       "      <th>datetime</th>\n",
       "      <th></th>\n",
       "      <th></th>\n",
       "      <th></th>\n",
       "    </tr>\n",
       "  </thead>\n",
       "  <tbody>\n",
       "    <tr>\n",
       "      <th rowspan=\"5\" valign=\"top\">2025-07-16</th>\n",
       "      <th>2025-07-16 09:00:00</th>\n",
       "      <td>0.000000</td>\n",
       "      <td>1.000000</td>\n",
       "      <td>1.000000</td>\n",
       "    </tr>\n",
       "    <tr>\n",
       "      <th>2025-07-16 09:01:00</th>\n",
       "      <td>-0.003209</td>\n",
       "      <td>1.000000</td>\n",
       "      <td>0.996791</td>\n",
       "    </tr>\n",
       "    <tr>\n",
       "      <th>2025-07-16 09:02:00</th>\n",
       "      <td>-0.001256</td>\n",
       "      <td>1.001139</td>\n",
       "      <td>0.999883</td>\n",
       "    </tr>\n",
       "    <tr>\n",
       "      <th>2025-07-16 09:03:00</th>\n",
       "      <td>-0.001374</td>\n",
       "      <td>0.999431</td>\n",
       "      <td>0.998057</td>\n",
       "    </tr>\n",
       "    <tr>\n",
       "      <th>2025-07-16 09:04:00</th>\n",
       "      <td>-0.000929</td>\n",
       "      <td>0.998292</td>\n",
       "      <td>0.997363</td>\n",
       "    </tr>\n",
       "    <tr>\n",
       "      <th>...</th>\n",
       "      <th>...</th>\n",
       "      <td>...</td>\n",
       "      <td>...</td>\n",
       "      <td>...</td>\n",
       "    </tr>\n",
       "    <tr>\n",
       "      <th rowspan=\"4\" valign=\"top\">2025-10-15</th>\n",
       "      <th>2025-10-15 14:57:00</th>\n",
       "      <td>-0.002323</td>\n",
       "      <td>1.008240</td>\n",
       "      <td>1.005917</td>\n",
       "    </tr>\n",
       "    <tr>\n",
       "      <th>2025-10-15 14:58:00</th>\n",
       "      <td>-0.002081</td>\n",
       "      <td>1.010006</td>\n",
       "      <td>1.007925</td>\n",
       "    </tr>\n",
       "    <tr>\n",
       "      <th>2025-10-15 14:59:00</th>\n",
       "      <td>0.000224</td>\n",
       "      <td>1.008829</td>\n",
       "      <td>1.009053</td>\n",
       "    </tr>\n",
       "    <tr>\n",
       "      <th>2025-10-15 15:00:00</th>\n",
       "      <td>0.000026</td>\n",
       "      <td>1.008829</td>\n",
       "      <td>1.008854</td>\n",
       "    </tr>\n",
       "    <tr>\n",
       "      <th>2025-10-16</th>\n",
       "      <th>2025-10-16 09:00:00</th>\n",
       "      <td>NaN</td>\n",
       "      <td>NaN</td>\n",
       "      <td>1.000000</td>\n",
       "    </tr>\n",
       "  </tbody>\n",
       "</table>\n",
       "<p>13561 rows × 3 columns</p>\n",
       "</div>"
      ],
      "text/plain": [
       "                                    spread        si     index\n",
       "trading_date datetime                                         \n",
       "2025-07-16   2025-07-16 09:00:00  0.000000  1.000000  1.000000\n",
       "             2025-07-16 09:01:00 -0.003209  1.000000  0.996791\n",
       "             2025-07-16 09:02:00 -0.001256  1.001139  0.999883\n",
       "             2025-07-16 09:03:00 -0.001374  0.999431  0.998057\n",
       "             2025-07-16 09:04:00 -0.000929  0.998292  0.997363\n",
       "...                                    ...       ...       ...\n",
       "2025-10-15   2025-10-15 14:57:00 -0.002323  1.008240  1.005917\n",
       "             2025-10-15 14:58:00 -0.002081  1.010006  1.007925\n",
       "             2025-10-15 14:59:00  0.000224  1.008829  1.009053\n",
       "             2025-10-15 15:00:00  0.000026  1.008829  1.008854\n",
       "2025-10-16   2025-10-16 09:00:00       NaN       NaN  1.000000\n",
       "\n",
       "[13561 rows x 3 columns]"
      ]
     },
     "execution_count": 13,
     "metadata": {},
     "output_type": "execute_result"
    }
   ],
   "source": [
    "si_val.name = \"si\"\n",
    "index_val.name = \"index\"\n",
    "val_diff.name = \"spread\"\n",
    "\n",
    "data = pd.concat([val_diff, si_val, index_val], axis=1)\n",
    "data"
   ]
  },
  {
   "cell_type": "code",
   "execution_count": 14,
   "id": "66d2a590",
   "metadata": {},
   "outputs": [
    {
     "data": {
      "text/html": [
       "<div>\n",
       "<style scoped>\n",
       "    .dataframe tbody tr th:only-of-type {\n",
       "        vertical-align: middle;\n",
       "    }\n",
       "\n",
       "    .dataframe tbody tr th {\n",
       "        vertical-align: top;\n",
       "    }\n",
       "\n",
       "    .dataframe thead th {\n",
       "        text-align: right;\n",
       "    }\n",
       "</style>\n",
       "<table border=\"1\" class=\"dataframe\">\n",
       "  <thead>\n",
       "    <tr style=\"text-align: right;\">\n",
       "      <th></th>\n",
       "      <th></th>\n",
       "      <th>spread</th>\n",
       "      <th>si</th>\n",
       "      <th>index</th>\n",
       "      <th>si_lag_1</th>\n",
       "      <th>index_lag_1</th>\n",
       "      <th>si_lag_2</th>\n",
       "      <th>index_lag_2</th>\n",
       "    </tr>\n",
       "    <tr>\n",
       "      <th>trading_date</th>\n",
       "      <th>datetime</th>\n",
       "      <th></th>\n",
       "      <th></th>\n",
       "      <th></th>\n",
       "      <th></th>\n",
       "      <th></th>\n",
       "      <th></th>\n",
       "      <th></th>\n",
       "    </tr>\n",
       "  </thead>\n",
       "  <tbody>\n",
       "    <tr>\n",
       "      <th rowspan=\"5\" valign=\"top\">2025-07-16</th>\n",
       "      <th>2025-07-16 09:02:00</th>\n",
       "      <td>-0.001256</td>\n",
       "      <td>1.001139</td>\n",
       "      <td>0.999883</td>\n",
       "      <td>1.000000</td>\n",
       "      <td>0.996791</td>\n",
       "      <td>1.000000</td>\n",
       "      <td>1.000000</td>\n",
       "    </tr>\n",
       "    <tr>\n",
       "      <th>2025-07-16 09:03:00</th>\n",
       "      <td>-0.001374</td>\n",
       "      <td>0.999431</td>\n",
       "      <td>0.998057</td>\n",
       "      <td>1.001139</td>\n",
       "      <td>0.999883</td>\n",
       "      <td>1.000000</td>\n",
       "      <td>0.996791</td>\n",
       "    </tr>\n",
       "    <tr>\n",
       "      <th>2025-07-16 09:04:00</th>\n",
       "      <td>-0.000929</td>\n",
       "      <td>0.998292</td>\n",
       "      <td>0.997363</td>\n",
       "      <td>0.999431</td>\n",
       "      <td>0.998057</td>\n",
       "      <td>1.001139</td>\n",
       "      <td>0.999883</td>\n",
       "    </tr>\n",
       "    <tr>\n",
       "      <th>2025-07-16 09:05:00</th>\n",
       "      <td>-0.001832</td>\n",
       "      <td>0.998861</td>\n",
       "      <td>0.997029</td>\n",
       "      <td>0.998292</td>\n",
       "      <td>0.997363</td>\n",
       "      <td>0.999431</td>\n",
       "      <td>0.998057</td>\n",
       "    </tr>\n",
       "    <tr>\n",
       "      <th>2025-07-16 09:06:00</th>\n",
       "      <td>-0.001400</td>\n",
       "      <td>0.997722</td>\n",
       "      <td>0.996322</td>\n",
       "      <td>0.998861</td>\n",
       "      <td>0.997029</td>\n",
       "      <td>0.998292</td>\n",
       "      <td>0.997363</td>\n",
       "    </tr>\n",
       "    <tr>\n",
       "      <th>...</th>\n",
       "      <th>...</th>\n",
       "      <td>...</td>\n",
       "      <td>...</td>\n",
       "      <td>...</td>\n",
       "      <td>...</td>\n",
       "      <td>...</td>\n",
       "      <td>...</td>\n",
       "      <td>...</td>\n",
       "    </tr>\n",
       "    <tr>\n",
       "      <th rowspan=\"5\" valign=\"top\">2025-10-15</th>\n",
       "      <th>2025-10-15 14:56:00</th>\n",
       "      <td>-0.002561</td>\n",
       "      <td>1.008240</td>\n",
       "      <td>1.005680</td>\n",
       "      <td>1.007652</td>\n",
       "      <td>1.006667</td>\n",
       "      <td>1.008240</td>\n",
       "      <td>1.007910</td>\n",
       "    </tr>\n",
       "    <tr>\n",
       "      <th>2025-10-15 14:57:00</th>\n",
       "      <td>-0.002323</td>\n",
       "      <td>1.008240</td>\n",
       "      <td>1.005917</td>\n",
       "      <td>1.008240</td>\n",
       "      <td>1.005680</td>\n",
       "      <td>1.007652</td>\n",
       "      <td>1.006667</td>\n",
       "    </tr>\n",
       "    <tr>\n",
       "      <th>2025-10-15 14:58:00</th>\n",
       "      <td>-0.002081</td>\n",
       "      <td>1.010006</td>\n",
       "      <td>1.007925</td>\n",
       "      <td>1.008240</td>\n",
       "      <td>1.005917</td>\n",
       "      <td>1.008240</td>\n",
       "      <td>1.005680</td>\n",
       "    </tr>\n",
       "    <tr>\n",
       "      <th>2025-10-15 14:59:00</th>\n",
       "      <td>0.000224</td>\n",
       "      <td>1.008829</td>\n",
       "      <td>1.009053</td>\n",
       "      <td>1.010006</td>\n",
       "      <td>1.007925</td>\n",
       "      <td>1.008240</td>\n",
       "      <td>1.005917</td>\n",
       "    </tr>\n",
       "    <tr>\n",
       "      <th>2025-10-15 15:00:00</th>\n",
       "      <td>0.000026</td>\n",
       "      <td>1.008829</td>\n",
       "      <td>1.008854</td>\n",
       "      <td>1.008829</td>\n",
       "      <td>1.009053</td>\n",
       "      <td>1.010006</td>\n",
       "      <td>1.007925</td>\n",
       "    </tr>\n",
       "  </tbody>\n",
       "</table>\n",
       "<p>13440 rows × 7 columns</p>\n",
       "</div>"
      ],
      "text/plain": [
       "                                    spread        si     index  si_lag_1  \\\n",
       "trading_date datetime                                                      \n",
       "2025-07-16   2025-07-16 09:02:00 -0.001256  1.001139  0.999883  1.000000   \n",
       "             2025-07-16 09:03:00 -0.001374  0.999431  0.998057  1.001139   \n",
       "             2025-07-16 09:04:00 -0.000929  0.998292  0.997363  0.999431   \n",
       "             2025-07-16 09:05:00 -0.001832  0.998861  0.997029  0.998292   \n",
       "             2025-07-16 09:06:00 -0.001400  0.997722  0.996322  0.998861   \n",
       "...                                    ...       ...       ...       ...   \n",
       "2025-10-15   2025-10-15 14:56:00 -0.002561  1.008240  1.005680  1.007652   \n",
       "             2025-10-15 14:57:00 -0.002323  1.008240  1.005917  1.008240   \n",
       "             2025-10-15 14:58:00 -0.002081  1.010006  1.007925  1.008240   \n",
       "             2025-10-15 14:59:00  0.000224  1.008829  1.009053  1.010006   \n",
       "             2025-10-15 15:00:00  0.000026  1.008829  1.008854  1.008829   \n",
       "\n",
       "                                  index_lag_1  si_lag_2  index_lag_2  \n",
       "trading_date datetime                                                 \n",
       "2025-07-16   2025-07-16 09:02:00     0.996791  1.000000     1.000000  \n",
       "             2025-07-16 09:03:00     0.999883  1.000000     0.996791  \n",
       "             2025-07-16 09:04:00     0.998057  1.001139     0.999883  \n",
       "             2025-07-16 09:05:00     0.997363  0.999431     0.998057  \n",
       "             2025-07-16 09:06:00     0.997029  0.998292     0.997363  \n",
       "...                                       ...       ...          ...  \n",
       "2025-10-15   2025-10-15 14:56:00     1.006667  1.008240     1.007910  \n",
       "             2025-10-15 14:57:00     1.005680  1.007652     1.006667  \n",
       "             2025-10-15 14:58:00     1.005917  1.008240     1.005680  \n",
       "             2025-10-15 14:59:00     1.007925  1.008240     1.005917  \n",
       "             2025-10-15 15:00:00     1.009053  1.010006     1.007925  \n",
       "\n",
       "[13440 rows x 7 columns]"
      ]
     },
     "execution_count": 14,
     "metadata": {},
     "output_type": "execute_result"
    }
   ],
   "source": [
    "def add_lag(data: pd.DataFrame):\n",
    "    for lag in range(1, 3):\n",
    "        data[\"si_lag_%d\" % lag] = data[\"si\"].shift(lag)\n",
    "        data[\"index_lag_%d\" % lag] = data[\"index\"].shift(lag)\n",
    "    return data\n",
    "\n",
    "lag_data = data.groupby(level=0).apply(add_lag).droplevel(0).dropna(how=\"any\")\n",
    "lag_data"
   ]
  },
  {
   "cell_type": "code",
   "execution_count": 15,
   "id": "02d94c0a",
   "metadata": {},
   "outputs": [
    {
     "name": "stdout",
     "output_type": "stream",
     "text": [
      "                            OLS Regression Results                            \n",
      "==============================================================================\n",
      "Dep. Variable:                     si   R-squared:                       0.990\n",
      "Model:                            OLS   Adj. R-squared:                  0.990\n",
      "Method:                 Least Squares   F-statistic:                 3.263e+05\n",
      "Date:                Thu, 16 Oct 2025   Prob (F-statistic):               0.00\n",
      "Time:                        08:53:31   Log-Likelihood:                 67757.\n",
      "No. Observations:               13440   AIC:                        -1.355e+05\n",
      "Df Residuals:                   13435   BIC:                        -1.355e+05\n",
      "Df Model:                           4                                         \n",
      "Covariance Type:            nonrobust                                         \n",
      "===============================================================================\n",
      "                  coef    std err          t      P>|t|      [0.025      0.975]\n",
      "-------------------------------------------------------------------------------\n",
      "const           0.0018      0.001      1.581      0.114      -0.000       0.004\n",
      "si_lag_1        0.9029      0.012     76.159      0.000       0.880       0.926\n",
      "index_lag_1     0.0602      0.015      3.957      0.000       0.030       0.090\n",
      "si_lag_2        0.0972      0.012      8.167      0.000       0.074       0.121\n",
      "index_lag_2    -0.0621      0.015     -4.067      0.000      -0.092      -0.032\n",
      "==============================================================================\n",
      "Omnibus:                     1803.605   Durbin-Watson:                   1.985\n",
      "Prob(Omnibus):                  0.000   Jarque-Bera (JB):            24060.541\n",
      "Skew:                          -0.035   Prob(JB):                         0.00\n",
      "Kurtosis:                       9.554   Cond. No.                     4.21e+03\n",
      "==============================================================================\n",
      "\n",
      "Notes:\n",
      "[1] Standard Errors assume that the covariance matrix of the errors is correctly specified.\n",
      "[2] The condition number is large, 4.21e+03. This might indicate that there are\n",
      "strong multicollinearity or other numerical problems.\n"
     ]
    }
   ],
   "source": [
    "X = lag_data.drop([\"spread\", \"si\", \"index\"], axis=1)\n",
    "X = sm.add_constant(X)\n",
    "y = lag_data[\"si\"]\n",
    "model = sm.OLS(y, X).fit()\n",
    "print(model.summary())"
   ]
  },
  {
   "cell_type": "code",
   "execution_count": 16,
   "id": "e9a8d506",
   "metadata": {},
   "outputs": [
    {
     "data": {
      "text/plain": [
       "11"
      ]
     },
     "execution_count": 16,
     "metadata": {},
     "output_type": "execute_result"
    }
   ],
   "source": [
    "(val_diff.groupby(level=0).apply(lambda x: adfuller(x)[1]) < 0.05).sum()"
   ]
  },
  {
   "cell_type": "code",
   "execution_count": 17,
   "id": "4861ce65",
   "metadata": {},
   "outputs": [
    {
     "data": {
      "text/plain": [
       "8"
      ]
     },
     "execution_count": 17,
     "metadata": {},
     "output_type": "execute_result"
    }
   ],
   "source": [
    "((si_val - si_vwap).fillna(method=\"bfill\").groupby(level=0).apply(lambda x: adfuller(x)[1]) < 0.05).sum()"
   ]
  },
  {
   "cell_type": "code",
   "execution_count": 18,
   "id": "d48677e2",
   "metadata": {},
   "outputs": [],
   "source": [
    "def daily_series(panel: pd.DataFrame, diff: bool=False):\n",
    "    all_daily = pd.DataFrame()\n",
    "    for data in panel.groupby(level=0):\n",
    "        daily = data[1].droplevel(0)\n",
    "        daily.name = daily.index[0].strftime(\"%Y%m%d\")\n",
    "        daily.index = daily.index.map(lambda x: x.strftime(\"%H%M%S\"))\n",
    "        all_daily = pd.concat([all_daily, daily], axis=1)\n",
    "    if diff:\n",
    "        all_daily = all_daily.diff().dropna()\n",
    "    return all_daily.reset_index(drop=True)"
   ]
  },
  {
   "cell_type": "code",
   "execution_count": 19,
   "id": "18fd97b5",
   "metadata": {},
   "outputs": [],
   "source": [
    "def long_data_export(all_daily: pd.DataFrame):\n",
    "    all_daily_long = all_daily.stack().reset_index()\n",
    "    all_daily_long.columns = [\"time\", \"date\", \"value\"]\n",
    "    all_daily_long[\"date\"] = pd.to_datetime(all_daily_long[\"date\"])\n",
    "    all_daily_long = all_daily_long.sort_values(by=[\"date\", \"time\"]).reset_index(drop=True)\n",
    "    all_daily_long.to_csv(\"si_daily_minute.csv\")"
   ]
  },
  {
   "cell_type": "code",
   "execution_count": 20,
   "id": "dcb4f27d",
   "metadata": {},
   "outputs": [],
   "source": [
    "long_data_export(daily_series(val_diff))"
   ]
  },
  {
   "cell_type": "code",
   "execution_count": 21,
   "id": "407d031d",
   "metadata": {},
   "outputs": [
    {
     "data": {
      "image/png": "[encoded data removed]",
      "text/plain": [
       "<Figure size 640x480 with 1 Axes>"
      ]
     },
     "metadata": {},
     "output_type": "display_data"
    }
   ],
   "source": [
    "panel = daily_series(val_diff)\n",
    "\n",
    "def spectral_analysis(series: pd.Series):\n",
    "    fft_result = np.fft.fft(series.diff().dropna())\n",
    "    n = len(panel.index)\n",
    "    freq = np.fft.fftfreq(n)\n",
    "    psd = np.abs(fft_result) ** 2 / n\n",
    "    return pd.Series(psd[: n//2], index=freq[: n//2])\n",
    "\n",
    "average_spectral_power = panel.apply(spectral_analysis).mean(axis=1)\n",
    "plt.plot(average_spectral_power)\n",
    "plt.show()"
   ]
  },
  {
   "cell_type": "code",
   "execution_count": 22,
   "id": "0d00323a",
   "metadata": {},
   "outputs": [
    {
     "data": {
      "image/png": "[encoded data removed]",
      "text/plain": [
       "<Figure size 640x480 with 1 Axes>"
      ]
     },
     "metadata": {},
     "output_type": "display_data"
    }
   ],
   "source": [
    "plt.plot(average_spectral_power.ewm(span=20, ignore_na=True).mean())\n",
    "plt.show()"
   ]
  },
  {
   "cell_type": "code",
   "execution_count": 23,
   "id": "402e2c59",
   "metadata": {},
   "outputs": [
    {
     "name": "stdout",
     "output_type": "stream",
     "text": [
      "                               SARIMAX Results                                \n",
      "==============================================================================\n",
      "Dep. Variable:                 spread   No. Observations:                13560\n",
      "Model:                 ARIMA(1, 0, 1)   Log Likelihood               67956.910\n",
      "Date:                Thu, 16 Oct 2025   AIC                        -135905.819\n",
      "Time:                        08:53:36   BIC                        -135875.760\n",
      "Sample:                             0   HQIC                       -135895.796\n",
      "                              - 13560                                         \n",
      "Covariance Type:                  opg                                         \n",
      "==============================================================================\n",
      "                 coef    std err          z      P>|z|      [0.025      0.975]\n",
      "------------------------------------------------------------------------------\n",
      "const         -0.0002      0.002     -0.143      0.886      -0.004       0.003\n",
      "ar.L1          0.9923      0.001    746.634      0.000       0.990       0.995\n",
      "ma.L1         -0.0650      0.003    -24.794      0.000      -0.070      -0.060\n",
      "sigma2      2.596e-06   7.95e-09    326.590      0.000    2.58e-06    2.61e-06\n",
      "===================================================================================\n",
      "Ljung-Box (L1) (Q):                   0.00   Jarque-Bera (JB):          17113231.37\n",
      "Prob(Q):                              0.98   Prob(JB):                         0.00\n",
      "Heteroskedasticity (H):               0.78   Skew:                             0.55\n",
      "Prob(H) (two-sided):                  0.00   Kurtosis:                       177.03\n",
      "===================================================================================\n",
      "\n",
      "Warnings:\n",
      "[1] Covariance matrix calculated using the outer product of gradients (complex-step).\n"
     ]
    }
   ],
   "source": [
    "model = ARIMA(val_diff, order=(1, 0, 1))\n",
    "print(model.fit().summary())"
   ]
  },
  {
   "cell_type": "code",
   "execution_count": 24,
   "id": "80ee6a9a",
   "metadata": {},
   "outputs": [
    {
     "data": {
      "text/plain": [
       "0.005144902164866597"
      ]
     },
     "execution_count": 24,
     "metadata": {},
     "output_type": "execute_result"
    }
   ],
   "source": [
    "val_diff.groupby(level=0).std().mean()"
   ]
  },
  {
   "cell_type": "code",
   "execution_count": 25,
   "id": "670b548b",
   "metadata": {},
   "outputs": [
    {
     "data": {
      "text/plain": [
       "0.00536591677721307"
      ]
     },
     "execution_count": 25,
     "metadata": {},
     "output_type": "execute_result"
    }
   ],
   "source": [
    "(si_val - si_vwap).groupby(level=0).std().mean()"
   ]
  },
  {
   "cell_type": "code",
   "execution_count": 26,
   "id": "3b2b5f49",
   "metadata": {},
   "outputs": [
    {
     "data": {
      "text/plain": [
       "count    57.000000\n",
       "mean      0.817867\n",
       "std       1.405267\n",
       "min      -4.750000\n",
       "25%       0.285714\n",
       "50%       0.909091\n",
       "75%       1.368421\n",
       "max       3.857143\n",
       "dtype: float64"
      ]
     },
     "execution_count": 26,
     "metadata": {},
     "output_type": "execute_result"
    }
   ],
   "source": [
    "intra_chg = si_data.groupby(\"trading_date\").apply(lambda x: x[\"close\"].iloc[-1] - x[\"open\"].iloc[3]).iloc[1:]\n",
    "daily_chg = si_data.groupby(\"trading_date\")[\"close\"].last().diff().dropna()\n",
    "intra_prop = intra_chg / daily_chg\n",
    "intra_prop = intra_prop[~np.isinf(intra_prop)].iloc[:-1]\n",
    "intra_prop.describe()"
   ]
  },
  {
   "cell_type": "code",
   "execution_count": 27,
   "id": "0b77e733",
   "metadata": {},
   "outputs": [
    {
     "name": "stdout",
     "output_type": "stream",
     "text": [
      "                            OLS Regression Results                            \n",
      "==============================================================================\n",
      "Dep. Variable:                      y   R-squared:                       0.704\n",
      "Model:                            OLS   Adj. R-squared:                  0.698\n",
      "Method:                 Least Squares   F-statistic:                     361.7\n",
      "Date:                Thu, 16 Oct 2025   Prob (F-statistic):           2.34e-26\n",
      "Time:                        08:53:37   Log-Likelihood:                -355.80\n",
      "No. Observations:                  59   AIC:                             715.6\n",
      "Df Residuals:                      57   BIC:                             719.7\n",
      "Df Model:                           1                                         \n",
      "Covariance Type:                  HAC                                         \n",
      "==============================================================================\n",
      "                 coef    std err          z      P>|z|      [0.025      0.975]\n",
      "------------------------------------------------------------------------------\n",
      "const         23.2336      8.497      2.734      0.006       6.580      39.887\n",
      "close          0.6825      0.036     19.020      0.000       0.612       0.753\n",
      "==============================================================================\n",
      "Omnibus:                        0.122   Durbin-Watson:                   2.185\n",
      "Prob(Omnibus):                  0.941   Jarque-Bera (JB):                0.195\n",
      "Skew:                          -0.101   Prob(JB):                        0.907\n",
      "Kurtosis:                       2.804   Cond. No.                         227.\n",
      "==============================================================================\n",
      "\n",
      "Notes:\n",
      "[1] Standard Errors are heteroscedasticity and autocorrelation robust (HAC) using 10 lags and without small sample correction\n"
     ]
    }
   ],
   "source": [
    "y = intra_chg\n",
    "X = daily_chg\n",
    "X = sm.add_constant(X)\n",
    "\n",
    "print(sm.OLS(y, X).fit(cov_type=\"HAC\", cov_kwds={\"maxlags\": 10}).summary())"
   ]
  },
  {
   "cell_type": "code",
   "execution_count": 28,
   "id": "10ed9c93",
   "metadata": {},
   "outputs": [
    {
     "data": {
      "text/plain": [
       "<Axes: xlabel='trading_date'>"
      ]
     },
     "execution_count": 28,
     "metadata": {},
     "output_type": "execute_result"
    },
    {
     "data": {
      "image/png": "[encoded data removed]",
      "text/plain": [
       "<Figure size 640x480 with 1 Axes>"
      ]
     },
     "metadata": {},
     "output_type": "display_data"
    }
   ],
   "source": [
    "vol2oi = si_data.groupby(\"trading_date\").apply(lambda x: abs(x[\"open_interest\"].iloc[-1] - x[\"open_interest\"].iloc[0]) / x[\"volume\"].sum())\n",
    "vol2oi.plot()"
   ]
  },
  {
   "cell_type": "code",
   "execution_count": 29,
   "id": "4dc0303e",
   "metadata": {},
   "outputs": [
    {
     "name": "stdout",
     "output_type": "stream",
     "text": [
      "                            OLS Regression Results                            \n",
      "==============================================================================\n",
      "Dep. Variable:                  close   R-squared:                       0.311\n",
      "Model:                            OLS   Adj. R-squared:                  0.311\n",
      "Method:                 Least Squares   F-statistic:                     674.2\n",
      "Date:                Thu, 16 Oct 2025   Prob (F-statistic):          4.69e-145\n",
      "Time:                        08:53:37   Log-Likelihood:                -43216.\n",
      "No. Observations:               13380   AIC:                         8.644e+04\n",
      "Df Residuals:                   13378   BIC:                         8.645e+04\n",
      "Df Model:                           1                                         \n",
      "Covariance Type:                  HAC                                         \n",
      "==============================================================================\n",
      "                 coef    std err          z      P>|z|      [0.025      0.975]\n",
      "------------------------------------------------------------------------------\n",
      "const          4.7358      0.124     38.145      0.000       4.492       4.979\n",
      "volume         0.0017   6.46e-05     25.965      0.000       0.002       0.002\n",
      "==============================================================================\n",
      "Omnibus:                     5851.980   Durbin-Watson:                   1.038\n",
      "Prob(Omnibus):                  0.000   Jarque-Bera (JB):            70291.515\n",
      "Skew:                           1.775   Prob(JB):                         0.00\n",
      "Kurtosis:                      13.653   Cond. No.                     4.55e+03\n",
      "==============================================================================\n",
      "\n",
      "Notes:\n",
      "[1] Standard Errors are heteroscedasticity and autocorrelation robust (HAC) using 1 lags and without small sample correction\n",
      "[2] The condition number is large, 4.55e+03. This might indicate that there are\n",
      "strong multicollinearity or other numerical problems.\n"
     ]
    }
   ],
   "source": [
    "windows = 3\n",
    "rol_std = si_data.groupby(\"trading_date\")[\"close\"].apply(lambda x: x.rolling(windows).std().dropna())\n",
    "rol_vol = si_data.groupby(\"trading_date\")[\"volume\"].rolling(windows).mean().dropna()\n",
    "\n",
    "y = rol_std\n",
    "X = rol_vol\n",
    "X = sm.add_constant(X)\n",
    "\n",
    "print(sm.OLS(y, X).fit(cov_type=\"HAC\", cov_kwds={\"maxlags\": 1}).summary())"
   ]
  },
  {
   "cell_type": "code",
   "execution_count": 30,
   "id": "728ee08a",
   "metadata": {},
   "outputs": [
    {
     "data": {
      "image/png": "[encoded data removed]",
      "text/plain": [
       "<Figure size 640x480 with 1 Axes>"
      ]
     },
     "metadata": {},
     "output_type": "display_data"
    }
   ],
   "source": [
    "spread = si_minute.groupby(level=0).transform(\"first\") * val_diff\n",
    "spread = spread.groupby(level=0).apply(lambda x: ((x + x.shift()) / 2).dropna()).droplevel([0, 1])\n",
    "vw_spread = spread * si_data[\"volume\"]\n",
    "vw_spread = vw_spread.groupby(vw_spread.index.date).apply(lambda x: x.cumsum()) / si_data[\"volume\"].groupby(si_data.index.date).apply(lambda x: x.cumsum())\n",
    "\n",
    "def discnt_sum(series: pd.Series):\n",
    "    n = len(series)\n",
    "    discnt = pd.Series([np.exp(0.5*i) for i in range(n)], index=series.index)\n",
    "    discnt = discnt / discnt.sum()\n",
    "    return (series * discnt).sum()\n",
    "\n",
    "cum_diff = vw_spread.groupby(level=0).last().rolling(5).apply(discnt_sum).dropna()\n",
    "plt.plot(cum_diff)\n",
    "plt.show()"
   ]
  },
  {
   "cell_type": "code",
   "execution_count": null,
   "id": "7e6528fb",
   "metadata": {},
   "outputs": [
    {
     "data": {
      "text/plain": [
       "trading_date  datetime           \n",
       "2025-07-16    2025-07-16 09:05:00    0.297696\n",
       "              2025-07-16 09:06:00    0.560198\n",
       "              2025-07-16 09:07:00    0.872164\n",
       "              2025-07-16 09:08:00    0.227733\n",
       "              2025-07-16 09:09:00    0.958452\n",
       "                                       ...   \n",
       "2025-10-15    2025-10-15 14:56:00   -0.278965\n",
       "              2025-10-15 14:57:00   -0.110300\n",
       "              2025-10-15 14:58:00    0.553357\n",
       "              2025-10-15 14:59:00    0.293537\n",
       "              2025-10-15 15:00:00    0.207776\n",
       "Name: si, Length: 13319, dtype: float64"
      ]
     },
     "execution_count": 65,
     "metadata": {},
     "output_type": "execute_result"
    }
   ],
   "source": [
    "def regression(si_series: pd.Series):\n",
    "    y = si_series\n",
    "    X = (index_val.diff() / index_val.shift()).reindex(si_series.index)\n",
    "    X = sm.add_constant(X)\n",
    "    return sm.OLS(y, X).fit().params[\"index\"]\n",
    "\n",
    "beta = (si_val.diff() / si_val.shift()).groupby(level=0).rolling(5).apply(regression).droplevel(0).dropna()\n",
    "beta"
   ]
  },
  {
   "cell_type": "code",
   "execution_count": 66,
   "id": "87397967",
   "metadata": {},
   "outputs": [
    {
     "data": {
      "image/png": "[encoded data removed]",
      "text/plain": [
       "<Figure size 640x480 with 1 Axes>"
      ]
     },
     "metadata": {},
     "output_type": "display_data"
    }
   ],
   "source": [
    "test_beta = beta.xs(pd.to_datetime(\"20251014\"), level=0).asfreq(\"1min\")\n",
    "\n",
    "plt.plot(test_beta)\n",
    "plt.axhline(1, color=\"red\")\n",
    "plt.show()"
   ]
  },
  {
   "cell_type": "code",
   "execution_count": 62,
   "id": "2ee23e4a",
   "metadata": {},
   "outputs": [
    {
     "name": "stdout",
     "output_type": "stream",
     "text": [
      "                            OLS Regression Results                            \n",
      "==============================================================================\n",
      "Dep. Variable:                     si   R-squared:                       0.020\n",
      "Model:                            OLS   Adj. R-squared:                  0.020\n",
      "Method:                 Least Squares   F-statistic:                     270.2\n",
      "Date:                Thu, 16 Oct 2025   Prob (F-statistic):           3.99e-60\n",
      "Time:                        09:17:02   Log-Likelihood:                -18532.\n",
      "No. Observations:               13260   AIC:                         3.707e+04\n",
      "Df Residuals:                   13258   BIC:                         3.708e+04\n",
      "Df Model:                           1                                         \n",
      "Covariance Type:            nonrobust                                         \n",
      "==============================================================================\n",
      "                 coef    std err          t      P>|t|      [0.025      0.975]\n",
      "------------------------------------------------------------------------------\n",
      "const          0.9112      0.012     76.159      0.000       0.888       0.935\n",
      "volume      6.202e-05   3.77e-06     16.438      0.000    5.46e-05    6.94e-05\n",
      "==============================================================================\n",
      "Omnibus:                     6770.580   Durbin-Watson:                   0.876\n",
      "Prob(Omnibus):                  0.000   Jarque-Bera (JB):           563260.734\n",
      "Skew:                           1.571   Prob(JB):                         0.00\n",
      "Kurtosis:                      34.774   Cond. No.                     4.46e+03\n",
      "==============================================================================\n",
      "\n",
      "Notes:\n",
      "[1] Standard Errors assume that the covariance matrix of the errors is correctly specified.\n",
      "[2] The condition number is large, 4.46e+03. This might indicate that there are\n",
      "strong multicollinearity or other numerical problems.\n"
     ]
    }
   ],
   "source": [
    "volume = si_data[\"volume\"]\n",
    "rol_vol = volume.groupby(volume.index.date).rolling(5).mean().dropna()\n",
    "\n",
    "y = beta.reindex(rol_vol.index)\n",
    "X = rol_vol\n",
    "X = sm.add_constant(X)\n",
    "print(sm.OLS(y, X).fit().summary())"
   ]
  },
  {
   "cell_type": "code",
   "execution_count": null,
   "id": "d981807f",
   "metadata": {},
   "outputs": [
    {
     "data": {
      "text/plain": [
       "0.0006004814416378934"
      ]
     },
     "execution_count": 69,
     "metadata": {},
     "output_type": "execute_result"
    }
   ],
   "source": [
    "all_y = si_val.diff() / si_val.shift()\n",
    "all_X = index_val.diff() / index_val.shift()\n",
    "\n",
    "pos_y = all_y[all_y >= 0]\n",
    "neg_y = all_y[all_y < 0]\n",
    "pos_X = all_X[pos_y.index]\n",
    "neg_X = all_X[neg_y.index]\n",
    "\n",
    "pos_beta = sm.OLS(pos_y, sm.add_constant(pos_X)).fit().params.iloc[0]\n",
    "neg_beta = sm.OLS(neg_y, sm.add_constant(neg_X)).fit().params.iloc[0]"
   ]
  },
  {
   "cell_type": "code",
   "execution_count": null,
   "id": "9b92fec7",
   "metadata": {},
   "outputs": [],
   "source": []
  }
 ],
 "metadata": {
  "kernelspec": {
   "display_name": "base",
   "language": "python",
   "name": "python3"
  },
  "language_info": {
   "codemirror_mode": {
    "name": "ipython",
    "version": 3
   },
   "file_extension": ".py",
   "mimetype": "text/x-python",
   "name": "python",
   "nbconvert_exporter": "python",
   "pygments_lexer": "ipython3",
   "version": "3.9.20"
  }
 },
 "nbformat": 4,
 "nbformat_minor": 5
}
