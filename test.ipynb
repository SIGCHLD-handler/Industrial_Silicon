{
 "cells": [
  {
   "cell_type": "code",
   "execution_count": 9,
   "id": "e8457204",
   "metadata": {},
   "outputs": [
    {
     "data": {
      "text/plain": [
       "open        8715.0\n",
       "high        8770.0\n",
       "low         8455.0\n",
       "close       8520.0\n",
       "volume    287277.0\n",
       "hold      162674.0\n",
       "settle      8580.0\n",
       "Name: 2025-10-14 00:00:00, dtype: float64"
      ]
     },
     "execution_count": 9,
     "metadata": {},
     "output_type": "execute_result"
    }
   ],
   "source": [
    "import pandas as pd\n",
    "import akshare as ak\n",
    "import datetime as dt\n",
    "\n",
    "yesterday = dt.date.today() - pd.DateOffset(days=1)\n",
    "\n",
    "data = ak.futures_zh_daily_sina(\"SI2511\").set_index(\"date\")\n",
    "data.index = pd.to_datetime(data.index)\n",
    "data.loc[yesterday, :]"
   ]
  },
  {
   "cell_type": "code",
   "execution_count": 19,
   "id": "964cf965",
   "metadata": {},
   "outputs": [
    {
     "data": {
      "text/plain": [
       "Timestamp('2025-10-13 00:00:00')"
      ]
     },
     "execution_count": 19,
     "metadata": {},
     "output_type": "execute_result"
    }
   ],
   "source": [
    "date_list = pd.to_datetime(ak.tool_trade_date_hist_sina()[\"trade_date\"])\n",
    "date_list[date_list[date_list == yesterday].index[0] - 1]"
   ]
  },
  {
   "cell_type": "code",
   "execution_count": null,
   "id": "093224a5",
   "metadata": {},
   "outputs": [],
   "source": []
  }
 ],
 "metadata": {
  "kernelspec": {
   "display_name": "base",
   "language": "python",
   "name": "python3"
  },
  "language_info": {
   "codemirror_mode": {
    "name": "ipython",
    "version": 3
   },
   "file_extension": ".py",
   "mimetype": "text/x-python",
   "name": "python",
   "nbconvert_exporter": "python",
   "pygments_lexer": "ipython3",
   "version": "3.9.20"
  }
 },
 "nbformat": 4,
 "nbformat_minor": 5
}
