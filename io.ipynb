{
 "cells": [
  {
   "cell_type": "code",
   "execution_count": 28,
   "id": "fac96360",
   "metadata": {},
   "outputs": [],
   "source": [
    "import numpy as np\n",
    "import pandas as pd\n",
    "\n",
    "import warnings\n",
    "warnings.filterwarnings(\"ignore\")"
   ]
  },
  {
   "cell_type": "code",
   "execution_count": null,
   "id": "0f20e994",
   "metadata": {},
   "outputs": [],
   "source": [
    "data = pd.read_excel(\"io_2020.xlsx\", sheet_name=\"Sheet\", header=None).to_numpy()\n",
    "M = data[:-1, :]                           # 中间投入矩阵\n",
    "X = data[-1, :]                            # 总产出向量"
   ]
  },
  {
   "cell_type": "code",
   "execution_count": null,
   "id": "c5085a57",
   "metadata": {},
   "outputs": [],
   "source": [
    "A = M @ np.linalg.inv(np.diag(X))          # 直接消耗系数矩阵"
   ]
  },
  {
   "cell_type": "code",
   "execution_count": 31,
   "id": "5d7611b2",
   "metadata": {},
   "outputs": [],
   "source": [
    "L = np.linalg.inv(np.eye(A.shape[0]) - A)  # 列昂惕夫逆矩阵\n",
    "C = L.T @ L                                # 协方差矩阵\n",
    "D = np.diag(1 / np.sqrt(np.diag(A)))       # 标准化矩阵\n",
    "R = D @ C @ D                              # 相关系数矩阵"
   ]
  },
  {
   "cell_type": "code",
   "execution_count": 32,
   "id": "c3544fbc",
   "metadata": {},
   "outputs": [
    {
     "data": {
      "text/plain": [
       "array([[ 11.51543047,   0.60661267,   3.44146489, ...,   1.29531932,\n",
       "          0.59874044,   0.59569267],\n",
       "       [  0.60661267,  19.77205404,   0.40740975, ...,   0.36796341,\n",
       "          0.32605807,   0.39906413],\n",
       "       [  3.44146489,   0.40740975,  20.30839252, ...,   0.87581555,\n",
       "          0.4969149 ,   0.48984156],\n",
       "       ...,\n",
       "       [  1.29531932,   0.36796341,   0.87581555, ...,  34.78223927,\n",
       "          0.97049504,   0.95614401],\n",
       "       [  0.59874044,   0.32605807,   0.4969149 , ...,   0.97049504,\n",
       "        117.70582746,   0.86801922],\n",
       "       [  0.59569267,   0.39906413,   0.48984156, ...,   0.95614401,\n",
       "          0.86801922,  40.73519686]])"
      ]
     },
     "execution_count": 32,
     "metadata": {},
     "output_type": "execute_result"
    }
   ],
   "source": [
    "R"
   ]
  },
  {
   "cell_type": "code",
   "execution_count": null,
   "id": "97261adf",
   "metadata": {},
   "outputs": [],
   "source": []
  }
 ],
 "metadata": {
  "kernelspec": {
   "display_name": "base",
   "language": "python",
   "name": "python3"
  },
  "language_info": {
   "codemirror_mode": {
    "name": "ipython",
    "version": 3
   },
   "file_extension": ".py",
   "mimetype": "text/x-python",
   "name": "python",
   "nbconvert_exporter": "python",
   "pygments_lexer": "ipython3",
   "version": "3.9.20"
  }
 },
 "nbformat": 4,
 "nbformat_minor": 5
}
